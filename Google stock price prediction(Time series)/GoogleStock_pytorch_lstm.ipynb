{
 "cells": [
  {
   "cell_type": "markdown",
   "source": [
    "# Import Libraries"
   ],
   "metadata": {
    "collapsed": false
   }
  },
  {
   "cell_type": "code",
   "execution_count": 1,
   "metadata": {
    "collapsed": true
   },
   "outputs": [],
   "source": [
    "import torch\n",
    "import torch.nn as nn\n",
    "import numpy as np\n",
    "import pandas as pd\n",
    "import torch.optim as optim"
   ]
  },
  {
   "cell_type": "markdown",
   "source": [
    "# Import Datasets"
   ],
   "metadata": {
    "collapsed": false
   }
  },
  {
   "cell_type": "code",
   "execution_count": 2,
   "outputs": [],
   "source": [
    "GTrain = pd.read_csv(\"Google_Stock_Price_Train.csv\")"
   ],
   "metadata": {
    "collapsed": false
   }
  },
  {
   "cell_type": "code",
   "execution_count": 3,
   "outputs": [
    {
     "data": {
      "text/plain": "(1258, 6)"
     },
     "execution_count": 3,
     "metadata": {},
     "output_type": "execute_result"
    }
   ],
   "source": [
    "GTrain.shape"
   ],
   "metadata": {
    "collapsed": false
   }
  },
  {
   "cell_type": "code",
   "execution_count": 4,
   "outputs": [
    {
     "data": {
      "text/plain": "       Date    Open    High     Low   Close      Volume\n0  1/3/2012  325.25  332.83  324.97  663.59   7,380,500\n1  1/4/2012  331.27  333.87  329.08  666.45   5,749,400\n2  1/5/2012  329.83  330.75  326.89  657.21   6,590,300\n3  1/6/2012  328.34  328.77  323.68  648.24   5,405,900\n4  1/9/2012  322.04  322.29  309.46  620.76  11,688,800",
      "text/html": "<div>\n<style scoped>\n    .dataframe tbody tr th:only-of-type {\n        vertical-align: middle;\n    }\n\n    .dataframe tbody tr th {\n        vertical-align: top;\n    }\n\n    .dataframe thead th {\n        text-align: right;\n    }\n</style>\n<table border=\"1\" class=\"dataframe\">\n  <thead>\n    <tr style=\"text-align: right;\">\n      <th></th>\n      <th>Date</th>\n      <th>Open</th>\n      <th>High</th>\n      <th>Low</th>\n      <th>Close</th>\n      <th>Volume</th>\n    </tr>\n  </thead>\n  <tbody>\n    <tr>\n      <th>0</th>\n      <td>1/3/2012</td>\n      <td>325.25</td>\n      <td>332.83</td>\n      <td>324.97</td>\n      <td>663.59</td>\n      <td>7,380,500</td>\n    </tr>\n    <tr>\n      <th>1</th>\n      <td>1/4/2012</td>\n      <td>331.27</td>\n      <td>333.87</td>\n      <td>329.08</td>\n      <td>666.45</td>\n      <td>5,749,400</td>\n    </tr>\n    <tr>\n      <th>2</th>\n      <td>1/5/2012</td>\n      <td>329.83</td>\n      <td>330.75</td>\n      <td>326.89</td>\n      <td>657.21</td>\n      <td>6,590,300</td>\n    </tr>\n    <tr>\n      <th>3</th>\n      <td>1/6/2012</td>\n      <td>328.34</td>\n      <td>328.77</td>\n      <td>323.68</td>\n      <td>648.24</td>\n      <td>5,405,900</td>\n    </tr>\n    <tr>\n      <th>4</th>\n      <td>1/9/2012</td>\n      <td>322.04</td>\n      <td>322.29</td>\n      <td>309.46</td>\n      <td>620.76</td>\n      <td>11,688,800</td>\n    </tr>\n  </tbody>\n</table>\n</div>"
     },
     "execution_count": 4,
     "metadata": {},
     "output_type": "execute_result"
    }
   ],
   "source": [
    "GTrain.head()"
   ],
   "metadata": {
    "collapsed": false
   }
  },
  {
   "cell_type": "code",
   "execution_count": 5,
   "outputs": [
    {
     "data": {
      "text/plain": "              Open         High          Low\ncount  1258.000000  1258.000000  1258.000000\nmean    533.709833   537.880223   529.007409\nstd     151.904442   153.008811   150.552807\nmin     279.120000   281.210000   277.220000\n25%     404.115000   406.765000   401.765000\n50%     537.470000   540.750000   532.990000\n75%     654.922500   662.587500   644.800000\nmax     816.680000   816.680000   805.140000",
      "text/html": "<div>\n<style scoped>\n    .dataframe tbody tr th:only-of-type {\n        vertical-align: middle;\n    }\n\n    .dataframe tbody tr th {\n        vertical-align: top;\n    }\n\n    .dataframe thead th {\n        text-align: right;\n    }\n</style>\n<table border=\"1\" class=\"dataframe\">\n  <thead>\n    <tr style=\"text-align: right;\">\n      <th></th>\n      <th>Open</th>\n      <th>High</th>\n      <th>Low</th>\n    </tr>\n  </thead>\n  <tbody>\n    <tr>\n      <th>count</th>\n      <td>1258.000000</td>\n      <td>1258.000000</td>\n      <td>1258.000000</td>\n    </tr>\n    <tr>\n      <th>mean</th>\n      <td>533.709833</td>\n      <td>537.880223</td>\n      <td>529.007409</td>\n    </tr>\n    <tr>\n      <th>std</th>\n      <td>151.904442</td>\n      <td>153.008811</td>\n      <td>150.552807</td>\n    </tr>\n    <tr>\n      <th>min</th>\n      <td>279.120000</td>\n      <td>281.210000</td>\n      <td>277.220000</td>\n    </tr>\n    <tr>\n      <th>25%</th>\n      <td>404.115000</td>\n      <td>406.765000</td>\n      <td>401.765000</td>\n    </tr>\n    <tr>\n      <th>50%</th>\n      <td>537.470000</td>\n      <td>540.750000</td>\n      <td>532.990000</td>\n    </tr>\n    <tr>\n      <th>75%</th>\n      <td>654.922500</td>\n      <td>662.587500</td>\n      <td>644.800000</td>\n    </tr>\n    <tr>\n      <th>max</th>\n      <td>816.680000</td>\n      <td>816.680000</td>\n      <td>805.140000</td>\n    </tr>\n  </tbody>\n</table>\n</div>"
     },
     "execution_count": 5,
     "metadata": {},
     "output_type": "execute_result"
    }
   ],
   "source": [
    "GTrain.describe()"
   ],
   "metadata": {
    "collapsed": false
   }
  },
  {
   "cell_type": "code",
   "execution_count": 6,
   "outputs": [
    {
     "data": {
      "text/plain": "Date      0\nOpen      0\nHigh      0\nLow       0\nClose     0\nVolume    0\ndtype: int64"
     },
     "execution_count": 6,
     "metadata": {},
     "output_type": "execute_result"
    }
   ],
   "source": [
    "GTrain.isnull().sum()"
   ],
   "metadata": {
    "collapsed": false
   }
  },
  {
   "cell_type": "code",
   "execution_count": 7,
   "outputs": [],
   "source": [
    "GTest = pd.read_csv(\"Google_Stock_Price_Test.csv\")"
   ],
   "metadata": {
    "collapsed": false
   }
  },
  {
   "cell_type": "code",
   "execution_count": 8,
   "outputs": [
    {
     "data": {
      "text/plain": "       Date    Open    High     Low   Close     Volume\n0  1/3/2017  778.81  789.63  775.80  786.14  1,657,300\n1  1/4/2017  788.36  791.34  783.16  786.90  1,073,000\n2  1/5/2017  786.08  794.48  785.02  794.02  1,335,200\n3  1/6/2017  795.26  807.90  792.20  806.15  1,640,200\n4  1/9/2017  806.40  809.97  802.83  806.65  1,272,400",
      "text/html": "<div>\n<style scoped>\n    .dataframe tbody tr th:only-of-type {\n        vertical-align: middle;\n    }\n\n    .dataframe tbody tr th {\n        vertical-align: top;\n    }\n\n    .dataframe thead th {\n        text-align: right;\n    }\n</style>\n<table border=\"1\" class=\"dataframe\">\n  <thead>\n    <tr style=\"text-align: right;\">\n      <th></th>\n      <th>Date</th>\n      <th>Open</th>\n      <th>High</th>\n      <th>Low</th>\n      <th>Close</th>\n      <th>Volume</th>\n    </tr>\n  </thead>\n  <tbody>\n    <tr>\n      <th>0</th>\n      <td>1/3/2017</td>\n      <td>778.81</td>\n      <td>789.63</td>\n      <td>775.80</td>\n      <td>786.14</td>\n      <td>1,657,300</td>\n    </tr>\n    <tr>\n      <th>1</th>\n      <td>1/4/2017</td>\n      <td>788.36</td>\n      <td>791.34</td>\n      <td>783.16</td>\n      <td>786.90</td>\n      <td>1,073,000</td>\n    </tr>\n    <tr>\n      <th>2</th>\n      <td>1/5/2017</td>\n      <td>786.08</td>\n      <td>794.48</td>\n      <td>785.02</td>\n      <td>794.02</td>\n      <td>1,335,200</td>\n    </tr>\n    <tr>\n      <th>3</th>\n      <td>1/6/2017</td>\n      <td>795.26</td>\n      <td>807.90</td>\n      <td>792.20</td>\n      <td>806.15</td>\n      <td>1,640,200</td>\n    </tr>\n    <tr>\n      <th>4</th>\n      <td>1/9/2017</td>\n      <td>806.40</td>\n      <td>809.97</td>\n      <td>802.83</td>\n      <td>806.65</td>\n      <td>1,272,400</td>\n    </tr>\n  </tbody>\n</table>\n</div>"
     },
     "execution_count": 8,
     "metadata": {},
     "output_type": "execute_result"
    }
   ],
   "source": [
    "GTest.head()"
   ],
   "metadata": {
    "collapsed": false
   }
  },
  {
   "cell_type": "code",
   "execution_count": 9,
   "outputs": [
    {
     "data": {
      "text/plain": "             Open        High         Low       Close\ncount   20.000000   20.000000   20.000000   20.000000\nmean   807.526000  811.926500  801.949500  807.904500\nstd     15.125428   14.381198   13.278607   13.210088\nmin    778.810000  789.630000  775.800000  786.140000\n25%    802.965000  806.735000  797.427500  802.282500\n50%    806.995000  808.640000  801.530000  806.110000\n75%    809.560000  817.097500  804.477500  810.760000\nmax    837.810000  841.950000  827.010000  835.670000",
      "text/html": "<div>\n<style scoped>\n    .dataframe tbody tr th:only-of-type {\n        vertical-align: middle;\n    }\n\n    .dataframe tbody tr th {\n        vertical-align: top;\n    }\n\n    .dataframe thead th {\n        text-align: right;\n    }\n</style>\n<table border=\"1\" class=\"dataframe\">\n  <thead>\n    <tr style=\"text-align: right;\">\n      <th></th>\n      <th>Open</th>\n      <th>High</th>\n      <th>Low</th>\n      <th>Close</th>\n    </tr>\n  </thead>\n  <tbody>\n    <tr>\n      <th>count</th>\n      <td>20.000000</td>\n      <td>20.000000</td>\n      <td>20.000000</td>\n      <td>20.000000</td>\n    </tr>\n    <tr>\n      <th>mean</th>\n      <td>807.526000</td>\n      <td>811.926500</td>\n      <td>801.949500</td>\n      <td>807.904500</td>\n    </tr>\n    <tr>\n      <th>std</th>\n      <td>15.125428</td>\n      <td>14.381198</td>\n      <td>13.278607</td>\n      <td>13.210088</td>\n    </tr>\n    <tr>\n      <th>min</th>\n      <td>778.810000</td>\n      <td>789.630000</td>\n      <td>775.800000</td>\n      <td>786.140000</td>\n    </tr>\n    <tr>\n      <th>25%</th>\n      <td>802.965000</td>\n      <td>806.735000</td>\n      <td>797.427500</td>\n      <td>802.282500</td>\n    </tr>\n    <tr>\n      <th>50%</th>\n      <td>806.995000</td>\n      <td>808.640000</td>\n      <td>801.530000</td>\n      <td>806.110000</td>\n    </tr>\n    <tr>\n      <th>75%</th>\n      <td>809.560000</td>\n      <td>817.097500</td>\n      <td>804.477500</td>\n      <td>810.760000</td>\n    </tr>\n    <tr>\n      <th>max</th>\n      <td>837.810000</td>\n      <td>841.950000</td>\n      <td>827.010000</td>\n      <td>835.670000</td>\n    </tr>\n  </tbody>\n</table>\n</div>"
     },
     "execution_count": 9,
     "metadata": {},
     "output_type": "execute_result"
    }
   ],
   "source": [
    "GTest.describe()"
   ],
   "metadata": {
    "collapsed": false
   }
  },
  {
   "cell_type": "code",
   "execution_count": 10,
   "outputs": [
    {
     "data": {
      "text/plain": "(20, 6)"
     },
     "execution_count": 10,
     "metadata": {},
     "output_type": "execute_result"
    }
   ],
   "source": [
    "GTest.shape"
   ],
   "metadata": {
    "collapsed": false
   }
  },
  {
   "cell_type": "code",
   "execution_count": 11,
   "outputs": [
    {
     "data": {
      "text/plain": "Date      0\nOpen      0\nHigh      0\nLow       0\nClose     0\nVolume    0\ndtype: int64"
     },
     "execution_count": 11,
     "metadata": {},
     "output_type": "execute_result"
    }
   ],
   "source": [
    "GTest.isnull().sum()"
   ],
   "metadata": {
    "collapsed": false
   }
  },
  {
   "cell_type": "code",
   "execution_count": 11,
   "outputs": [],
   "source": [],
   "metadata": {
    "collapsed": false
   }
  },
  {
   "cell_type": "markdown",
   "source": [
    "# Merge the datasets"
   ],
   "metadata": {
    "collapsed": false
   }
  },
  {
   "cell_type": "code",
   "execution_count": 12,
   "outputs": [],
   "source": [
    "GTrain['Date'] = pd.to_datetime(GTrain['Date'], format='%m/%d/%Y')\n",
    "GTest['Date'] = pd.to_datetime(GTest['Date'], format='%m/%d/%Y')\n"
   ],
   "metadata": {
    "collapsed": false
   }
  },
  {
   "cell_type": "code",
   "execution_count": 13,
   "outputs": [],
   "source": [
    "# Replace commas with empty string in GTrain\n",
    "GTrain = GTrain.replace(',', '', regex=True)\n",
    "\n",
    "# Replace commas with empty string in GTest\n",
    "GTest = GTest.replace(',', '', regex=True)\n"
   ],
   "metadata": {
    "collapsed": false
   }
  },
  {
   "cell_type": "code",
   "execution_count": 14,
   "outputs": [
    {
     "name": "stdout",
     "output_type": "stream",
     "text": [
      "Date      datetime64[ns]\n",
      "Open             float64\n",
      "High             float64\n",
      "Low              float64\n",
      "Close             object\n",
      "Volume            object\n",
      "dtype: object\n",
      "Date      datetime64[ns]\n",
      "Open             float64\n",
      "High             float64\n",
      "Low              float64\n",
      "Close            float64\n",
      "Volume            object\n",
      "dtype: object\n"
     ]
    }
   ],
   "source": [
    "print(GTrain.dtypes)\n",
    "print(GTest.dtypes)"
   ],
   "metadata": {
    "collapsed": false
   }
  },
  {
   "cell_type": "code",
   "execution_count": 15,
   "outputs": [],
   "source": [
    "GTrain['Close'] = GTrain['Close'].astype(float)"
   ],
   "metadata": {
    "collapsed": false
   }
  },
  {
   "cell_type": "code",
   "execution_count": 16,
   "outputs": [],
   "source": [
    "GTrain['Volume'] = GTrain['Volume'].astype(float)\n",
    "GTest['Volume'] = GTest['Volume'].astype(float)"
   ],
   "metadata": {
    "collapsed": false
   }
  },
  {
   "cell_type": "code",
   "execution_count": 17,
   "outputs": [
    {
     "name": "stdout",
     "output_type": "stream",
     "text": [
      "Date      datetime64[ns]\n",
      "Open             float64\n",
      "High             float64\n",
      "Low              float64\n",
      "Close            float64\n",
      "Volume           float64\n",
      "dtype: object\n",
      "Date      datetime64[ns]\n",
      "Open             float64\n",
      "High             float64\n",
      "Low              float64\n",
      "Close            float64\n",
      "Volume           float64\n",
      "dtype: object\n"
     ]
    }
   ],
   "source": [
    "print(GTrain.dtypes)\n",
    "print(GTest.dtypes)"
   ],
   "metadata": {
    "collapsed": false
   }
  },
  {
   "cell_type": "code",
   "execution_count": 18,
   "outputs": [],
   "source": [
    "GTrain = pd.read_csv('Google_Stock_Price_Train.csv', index_col='Date', parse_dates=True)\n",
    "GTest = pd.read_csv('Google_Stock_Price_Test.csv', index_col='Date', parse_dates=True)\n",
    "\n",
    "df = pd.concat([GTrain, GTest], axis=0)\n"
   ],
   "metadata": {
    "collapsed": false
   }
  },
  {
   "cell_type": "code",
   "execution_count": 19,
   "outputs": [
    {
     "data": {
      "text/plain": "              Open    High     Low   Close      Volume\nDate                                                  \n2012-01-03  325.25  332.83  324.97  663.59   7,380,500\n2012-01-04  331.27  333.87  329.08  666.45   5,749,400\n2012-01-05  329.83  330.75  326.89  657.21   6,590,300\n2012-01-06  328.34  328.77  323.68  648.24   5,405,900\n2012-01-09  322.04  322.29  309.46  620.76  11,688,800",
      "text/html": "<div>\n<style scoped>\n    .dataframe tbody tr th:only-of-type {\n        vertical-align: middle;\n    }\n\n    .dataframe tbody tr th {\n        vertical-align: top;\n    }\n\n    .dataframe thead th {\n        text-align: right;\n    }\n</style>\n<table border=\"1\" class=\"dataframe\">\n  <thead>\n    <tr style=\"text-align: right;\">\n      <th></th>\n      <th>Open</th>\n      <th>High</th>\n      <th>Low</th>\n      <th>Close</th>\n      <th>Volume</th>\n    </tr>\n    <tr>\n      <th>Date</th>\n      <th></th>\n      <th></th>\n      <th></th>\n      <th></th>\n      <th></th>\n    </tr>\n  </thead>\n  <tbody>\n    <tr>\n      <th>2012-01-03</th>\n      <td>325.25</td>\n      <td>332.83</td>\n      <td>324.97</td>\n      <td>663.59</td>\n      <td>7,380,500</td>\n    </tr>\n    <tr>\n      <th>2012-01-04</th>\n      <td>331.27</td>\n      <td>333.87</td>\n      <td>329.08</td>\n      <td>666.45</td>\n      <td>5,749,400</td>\n    </tr>\n    <tr>\n      <th>2012-01-05</th>\n      <td>329.83</td>\n      <td>330.75</td>\n      <td>326.89</td>\n      <td>657.21</td>\n      <td>6,590,300</td>\n    </tr>\n    <tr>\n      <th>2012-01-06</th>\n      <td>328.34</td>\n      <td>328.77</td>\n      <td>323.68</td>\n      <td>648.24</td>\n      <td>5,405,900</td>\n    </tr>\n    <tr>\n      <th>2012-01-09</th>\n      <td>322.04</td>\n      <td>322.29</td>\n      <td>309.46</td>\n      <td>620.76</td>\n      <td>11,688,800</td>\n    </tr>\n  </tbody>\n</table>\n</div>"
     },
     "execution_count": 19,
     "metadata": {},
     "output_type": "execute_result"
    }
   ],
   "source": [
    "df.head()"
   ],
   "metadata": {
    "collapsed": false
   }
  },
  {
   "cell_type": "code",
   "execution_count": 20,
   "outputs": [
    {
     "data": {
      "text/plain": "              Open    High     Low   Close    Volume\nDate                                                \n2012-01-03  325.25  332.83  324.97  663.59   7380500\n2012-01-04  331.27  333.87  329.08  666.45   5749400\n2012-01-05  329.83  330.75  326.89  657.21   6590300\n2012-01-06  328.34  328.77  323.68  648.24   5405900\n2012-01-09  322.04  322.29  309.46  620.76  11688800\n...            ...     ...     ...     ...       ...\n2017-01-25  829.62  835.77  825.06  835.67   1494500\n2017-01-26  837.81  838.00  827.01  832.15   2973900\n2017-01-27  834.71  841.95  820.44  823.31   2965800\n2017-01-30  814.66  815.84  799.80  802.32   3246600\n2017-01-31  796.86  801.25  790.52  796.79   2160600\n\n[1278 rows x 5 columns]",
      "text/html": "<div>\n<style scoped>\n    .dataframe tbody tr th:only-of-type {\n        vertical-align: middle;\n    }\n\n    .dataframe tbody tr th {\n        vertical-align: top;\n    }\n\n    .dataframe thead th {\n        text-align: right;\n    }\n</style>\n<table border=\"1\" class=\"dataframe\">\n  <thead>\n    <tr style=\"text-align: right;\">\n      <th></th>\n      <th>Open</th>\n      <th>High</th>\n      <th>Low</th>\n      <th>Close</th>\n      <th>Volume</th>\n    </tr>\n    <tr>\n      <th>Date</th>\n      <th></th>\n      <th></th>\n      <th></th>\n      <th></th>\n      <th></th>\n    </tr>\n  </thead>\n  <tbody>\n    <tr>\n      <th>2012-01-03</th>\n      <td>325.25</td>\n      <td>332.83</td>\n      <td>324.97</td>\n      <td>663.59</td>\n      <td>7380500</td>\n    </tr>\n    <tr>\n      <th>2012-01-04</th>\n      <td>331.27</td>\n      <td>333.87</td>\n      <td>329.08</td>\n      <td>666.45</td>\n      <td>5749400</td>\n    </tr>\n    <tr>\n      <th>2012-01-05</th>\n      <td>329.83</td>\n      <td>330.75</td>\n      <td>326.89</td>\n      <td>657.21</td>\n      <td>6590300</td>\n    </tr>\n    <tr>\n      <th>2012-01-06</th>\n      <td>328.34</td>\n      <td>328.77</td>\n      <td>323.68</td>\n      <td>648.24</td>\n      <td>5405900</td>\n    </tr>\n    <tr>\n      <th>2012-01-09</th>\n      <td>322.04</td>\n      <td>322.29</td>\n      <td>309.46</td>\n      <td>620.76</td>\n      <td>11688800</td>\n    </tr>\n    <tr>\n      <th>...</th>\n      <td>...</td>\n      <td>...</td>\n      <td>...</td>\n      <td>...</td>\n      <td>...</td>\n    </tr>\n    <tr>\n      <th>2017-01-25</th>\n      <td>829.62</td>\n      <td>835.77</td>\n      <td>825.06</td>\n      <td>835.67</td>\n      <td>1494500</td>\n    </tr>\n    <tr>\n      <th>2017-01-26</th>\n      <td>837.81</td>\n      <td>838.00</td>\n      <td>827.01</td>\n      <td>832.15</td>\n      <td>2973900</td>\n    </tr>\n    <tr>\n      <th>2017-01-27</th>\n      <td>834.71</td>\n      <td>841.95</td>\n      <td>820.44</td>\n      <td>823.31</td>\n      <td>2965800</td>\n    </tr>\n    <tr>\n      <th>2017-01-30</th>\n      <td>814.66</td>\n      <td>815.84</td>\n      <td>799.80</td>\n      <td>802.32</td>\n      <td>3246600</td>\n    </tr>\n    <tr>\n      <th>2017-01-31</th>\n      <td>796.86</td>\n      <td>801.25</td>\n      <td>790.52</td>\n      <td>796.79</td>\n      <td>2160600</td>\n    </tr>\n  </tbody>\n</table>\n<p>1278 rows × 5 columns</p>\n</div>"
     },
     "execution_count": 20,
     "metadata": {},
     "output_type": "execute_result"
    }
   ],
   "source": [
    "df.replace(',', '', regex=True)"
   ],
   "metadata": {
    "collapsed": false
   }
  },
  {
   "cell_type": "markdown",
   "source": [
    "# Graph Of Dataset"
   ],
   "metadata": {
    "collapsed": false
   }
  },
  {
   "cell_type": "code",
   "execution_count": 21,
   "outputs": [],
   "source": [
    "import seaborn as sns\n",
    "import matplotlib.pyplot as plt"
   ],
   "metadata": {
    "collapsed": false
   }
  },
  {
   "cell_type": "code",
   "execution_count": 22,
   "outputs": [
    {
     "data": {
      "text/plain": "<Figure size 1200x600 with 1 Axes>",
      "image/png": "[encoded data removed]"
     },
     "metadata": {},
     "output_type": "display_data"
    }
   ],
   "source": [
    "# Define list of y-axis limits for different ranges\n",
    "y_limits = [(0, 50), (50, 100), (100, 150), (150, 200), (200, 250), (250, 300), (300, 350), (350, 400), (400, 450), (450, 500), (500, 550), (550, 600), (600, 650), (650, 700), (700, 750), (750, 800), (800, 850), (850, 900)]\n",
    "df['Close'] = pd.to_numeric(df['Close'], errors='coerce')\n",
    "df = df.dropna(subset=['Close'])\n",
    "df['Range'] = pd.cut(df['Close'], bins=[y_min for y_min, y_max in y_limits] + [y_max for y_min, y_max in y_limits[-1:]], include_lowest=True, labels=[f'{y_min}-{y_max}' for y_min, y_max in y_limits])\n",
    "\n",
    "\n",
    "# Group data by range and plot histogram for each group\n",
    "plt.figure(figsize=(12,6))\n",
    "sns.histplot(data=df, x='Date', y='Close', hue='Range', palette='viridis')\n",
    "\n",
    "# Set title for plot\n",
    "plt.title('Histogram of Stock Closing Prices by Range')\n",
    "\n",
    "# Display the plot\n",
    "plt.show()"
   ],
   "metadata": {
    "collapsed": false
   }
  },
  {
   "cell_type": "code",
   "execution_count": 23,
   "outputs": [
    {
     "data": {
      "text/plain": "<Figure size 1200x600 with 1 Axes>",
      "image/png": "[encoded data removed]"
     },
     "metadata": {},
     "output_type": "display_data"
    }
   ],
   "source": [
    "\n",
    "sns.set_style('darkgrid')\n",
    "plt.figure(figsize=(12,6))\n",
    "sns.lineplot(data=df, x='Date', y='Close', color='red')\n",
    "plt.xlabel('Date')\n",
    "plt.ylabel('Close')\n",
    "plt.title('Histogram of Google Stock Price')\n",
    "plt.show()"
   ],
   "metadata": {
    "collapsed": false
   }
  },
  {
   "cell_type": "code",
   "execution_count": 192,
   "outputs": [
    {
     "data": {
      "text/plain": "<Figure size 1200x600 with 1 Axes>",
      "image/png": "[encoded data removed]"
     },
     "metadata": {},
     "output_type": "display_data"
    }
   ],
   "source": [
    "\n",
    "plt.figure(figsize=(12,6))\n",
    "sns.lineplot(data=df, x='Date', y='Volume', color='red')\n",
    "plt.xlabel('Date')\n",
    "plt.ylabel('Shares')\n",
    "plt.title('Histogram of Google Stock Shares Traded During the Day')\n",
    "plt.show()\n"
   ],
   "metadata": {
    "collapsed": false
   }
  },
  {
   "cell_type": "code",
   "execution_count": 25,
   "outputs": [],
   "source": [
    "from sklearn.preprocessing import MinMaxScaler"
   ],
   "metadata": {
    "collapsed": false
   }
  },
  {
   "cell_type": "code",
   "execution_count": 26,
   "outputs": [],
   "source": [
    "df = df.drop('Range', axis=1)"
   ],
   "metadata": {
    "collapsed": false
   }
  },
  {
   "cell_type": "code",
   "execution_count": 27,
   "outputs": [],
   "source": [
    "df['Volume'] = df['Volume'].str.replace(',', '').astype(float)"
   ],
   "metadata": {
    "collapsed": false
   }
  },
  {
   "cell_type": "code",
   "execution_count": 28,
   "outputs": [
    {
     "name": "stdout",
     "output_type": "stream",
     "text": [
      "Open      float64\n",
      "High      float64\n",
      "Low       float64\n",
      "Close     float64\n",
      "Volume    float64\n",
      "dtype: object\n"
     ]
    }
   ],
   "source": [
    "print(df.dtypes)"
   ],
   "metadata": {
    "collapsed": false
   }
  },
  {
   "cell_type": "code",
   "execution_count": 29,
   "outputs": [
    {
     "data": {
      "text/plain": "              Open    High     Low   Close      Volume\nDate                                                  \n2012-01-03  325.25  332.83  324.97  663.59   7380500.0\n2012-01-04  331.27  333.87  329.08  666.45   5749400.0\n2012-01-05  329.83  330.75  326.89  657.21   6590300.0\n2012-01-06  328.34  328.77  323.68  648.24   5405900.0\n2012-01-09  322.04  322.29  309.46  620.76  11688800.0",
      "text/html": "<div>\n<style scoped>\n    .dataframe tbody tr th:only-of-type {\n        vertical-align: middle;\n    }\n\n    .dataframe tbody tr th {\n        vertical-align: top;\n    }\n\n    .dataframe thead th {\n        text-align: right;\n    }\n</style>\n<table border=\"1\" class=\"dataframe\">\n  <thead>\n    <tr style=\"text-align: right;\">\n      <th></th>\n      <th>Open</th>\n      <th>High</th>\n      <th>Low</th>\n      <th>Close</th>\n      <th>Volume</th>\n    </tr>\n    <tr>\n      <th>Date</th>\n      <th></th>\n      <th></th>\n      <th></th>\n      <th></th>\n      <th></th>\n    </tr>\n  </thead>\n  <tbody>\n    <tr>\n      <th>2012-01-03</th>\n      <td>325.25</td>\n      <td>332.83</td>\n      <td>324.97</td>\n      <td>663.59</td>\n      <td>7380500.0</td>\n    </tr>\n    <tr>\n      <th>2012-01-04</th>\n      <td>331.27</td>\n      <td>333.87</td>\n      <td>329.08</td>\n      <td>666.45</td>\n      <td>5749400.0</td>\n    </tr>\n    <tr>\n      <th>2012-01-05</th>\n      <td>329.83</td>\n      <td>330.75</td>\n      <td>326.89</td>\n      <td>657.21</td>\n      <td>6590300.0</td>\n    </tr>\n    <tr>\n      <th>2012-01-06</th>\n      <td>328.34</td>\n      <td>328.77</td>\n      <td>323.68</td>\n      <td>648.24</td>\n      <td>5405900.0</td>\n    </tr>\n    <tr>\n      <th>2012-01-09</th>\n      <td>322.04</td>\n      <td>322.29</td>\n      <td>309.46</td>\n      <td>620.76</td>\n      <td>11688800.0</td>\n    </tr>\n  </tbody>\n</table>\n</div>"
     },
     "execution_count": 29,
     "metadata": {},
     "output_type": "execute_result"
    }
   ],
   "source": [
    "df.head()"
   ],
   "metadata": {
    "collapsed": false
   }
  },
  {
   "cell_type": "code",
   "execution_count": 30,
   "outputs": [
    {
     "data": {
      "text/plain": "Date\n2012-01-03     7380500.0\n2012-01-04     5749400.0\n2012-01-05     6590300.0\n2012-01-06     5405900.0\n2012-01-09    11688800.0\n                 ...    \n2017-01-25     1494500.0\n2017-01-26     2973900.0\n2017-01-27     2965800.0\n2017-01-30     3246600.0\n2017-01-31     2160600.0\nName: Volume, Length: 1169, dtype: float64"
     },
     "execution_count": 30,
     "metadata": {},
     "output_type": "execute_result"
    }
   ],
   "source": [
    "df.Volume"
   ],
   "metadata": {
    "collapsed": false
   }
  },
  {
   "cell_type": "code",
   "execution_count": 31,
   "outputs": [],
   "source": [
    "# Normalize the columns\n",
    "scaler = MinMaxScaler()\n",
    "normalized_cols = ['Close', 'Open', 'Volume', 'High', 'Low']\n",
    "df[normalized_cols] = scaler.fit_transform(df[normalized_cols])"
   ],
   "metadata": {
    "collapsed": false
   }
  },
  {
   "cell_type": "code",
   "execution_count": 32,
   "outputs": [
    {
     "data": {
      "text/plain": "(1169, 5)"
     },
     "execution_count": 32,
     "metadata": {},
     "output_type": "execute_result"
    }
   ],
   "source": [
    "# Concatenate the normalized columns\n",
    "data = df[normalized_cols]\n",
    "data.shape"
   ],
   "metadata": {
    "collapsed": false
   }
  },
  {
   "cell_type": "code",
   "execution_count": 33,
   "outputs": [
    {
     "data": {
      "text/plain": "               Close      Open    Volume      High       Low\nDate                                                        \n2012-01-03  0.400014  0.082568  0.295258  0.092057  0.086851\n2012-01-04  0.406650  0.093343  0.229936  0.093912  0.094327\n2012-01-05  0.385210  0.090766  0.263612  0.088348  0.090344\n2012-01-06  0.364396  0.088099  0.216179  0.084816  0.084505\n2012-01-09  0.300631  0.076823  0.467797  0.073260  0.058641",
      "text/html": "<div>\n<style scoped>\n    .dataframe tbody tr th:only-of-type {\n        vertical-align: middle;\n    }\n\n    .dataframe tbody tr th {\n        vertical-align: top;\n    }\n\n    .dataframe thead th {\n        text-align: right;\n    }\n</style>\n<table border=\"1\" class=\"dataframe\">\n  <thead>\n    <tr style=\"text-align: right;\">\n      <th></th>\n      <th>Close</th>\n      <th>Open</th>\n      <th>Volume</th>\n      <th>High</th>\n      <th>Low</th>\n    </tr>\n    <tr>\n      <th>Date</th>\n      <th></th>\n      <th></th>\n      <th></th>\n      <th></th>\n      <th></th>\n    </tr>\n  </thead>\n  <tbody>\n    <tr>\n      <th>2012-01-03</th>\n      <td>0.400014</td>\n      <td>0.082568</td>\n      <td>0.295258</td>\n      <td>0.092057</td>\n      <td>0.086851</td>\n    </tr>\n    <tr>\n      <th>2012-01-04</th>\n      <td>0.406650</td>\n      <td>0.093343</td>\n      <td>0.229936</td>\n      <td>0.093912</td>\n      <td>0.094327</td>\n    </tr>\n    <tr>\n      <th>2012-01-05</th>\n      <td>0.385210</td>\n      <td>0.090766</td>\n      <td>0.263612</td>\n      <td>0.088348</td>\n      <td>0.090344</td>\n    </tr>\n    <tr>\n      <th>2012-01-06</th>\n      <td>0.364396</td>\n      <td>0.088099</td>\n      <td>0.216179</td>\n      <td>0.084816</td>\n      <td>0.084505</td>\n    </tr>\n    <tr>\n      <th>2012-01-09</th>\n      <td>0.300631</td>\n      <td>0.076823</td>\n      <td>0.467797</td>\n      <td>0.073260</td>\n      <td>0.058641</td>\n    </tr>\n  </tbody>\n</table>\n</div>"
     },
     "execution_count": 33,
     "metadata": {},
     "output_type": "execute_result"
    }
   ],
   "source": [
    "data.head()"
   ],
   "metadata": {
    "collapsed": false
   }
  },
  {
   "cell_type": "markdown",
   "source": [
    "# Split data into training, validation, and testing sets"
   ],
   "metadata": {
    "collapsed": false
   }
  },
  {
   "cell_type": "code",
   "execution_count": 34,
   "outputs": [],
   "source": [
    "train_size = int(len(data) * 0.7)\n",
    "val_size = int(len(data) * 0.15)\n",
    "test_size = int(len(data) * 0.15)\n"
   ],
   "metadata": {
    "collapsed": false
   }
  },
  {
   "cell_type": "code",
   "execution_count": 35,
   "outputs": [
    {
     "name": "stdout",
     "output_type": "stream",
     "text": [
      "818\n"
     ]
    }
   ],
   "source": [
    "print(train_size)"
   ],
   "metadata": {
    "collapsed": false
   }
  },
  {
   "cell_type": "code",
   "execution_count": 36,
   "outputs": [
    {
     "name": "stdout",
     "output_type": "stream",
     "text": [
      "175\n"
     ]
    }
   ],
   "source": [
    "print(val_size)"
   ],
   "metadata": {
    "collapsed": false
   }
  },
  {
   "cell_type": "code",
   "execution_count": 37,
   "outputs": [
    {
     "name": "stdout",
     "output_type": "stream",
     "text": [
      "175\n"
     ]
    }
   ],
   "source": [
    "print(test_size)"
   ],
   "metadata": {
    "collapsed": false
   }
  },
  {
   "cell_type": "code",
   "execution_count": 38,
   "outputs": [],
   "source": [
    "train_data = data[:train_size]\n",
    "val_data = data[train_size:train_size+val_size]\n",
    "test_data = data[-test_size:]"
   ],
   "metadata": {
    "collapsed": false
   }
  },
  {
   "cell_type": "code",
   "execution_count": 39,
   "outputs": [
    {
     "data": {
      "text/plain": "(818, 5)"
     },
     "execution_count": 39,
     "metadata": {},
     "output_type": "execute_result"
    }
   ],
   "source": [
    "train_data.shape"
   ],
   "metadata": {
    "collapsed": false
   }
  },
  {
   "cell_type": "code",
   "execution_count": 40,
   "outputs": [
    {
     "data": {
      "text/plain": "(175, 5)"
     },
     "execution_count": 40,
     "metadata": {},
     "output_type": "execute_result"
    }
   ],
   "source": [
    "test_data.shape"
   ],
   "metadata": {
    "collapsed": false
   }
  },
  {
   "cell_type": "markdown",
   "source": [
    "# Define a function to create input sequences and corresponding labels"
   ],
   "metadata": {
    "collapsed": false
   }
  },
  {
   "cell_type": "code",
   "execution_count": 41,
   "outputs": [],
   "source": [
    "def create_sequences(data, seq_length):\n",
    "    X = []\n",
    "    y = []\n",
    "    for i in range(seq_length, len(data)):\n",
    "        X.append(data[i-seq_length:i, :])\n",
    "        y.append(data[i, :])\n",
    "    X = np.array(X)\n",
    "    y = np.array(y)\n",
    "    if len(X.shape) == 2:\n",
    "        X = np.expand_dims(X, axis=2)\n",
    "    return X, y"
   ],
   "metadata": {
    "collapsed": false
   }
  },
  {
   "cell_type": "code",
   "execution_count": 42,
   "outputs": [],
   "source": [
    "# Define the length of the input sequences\n",
    "seq_length = 30"
   ],
   "metadata": {
    "collapsed": false
   }
  },
  {
   "cell_type": "markdown",
   "source": [
    "# Create input sequences and labels for training, validation, and testing sets"
   ],
   "metadata": {
    "collapsed": false
   }
  },
  {
   "cell_type": "code",
   "execution_count": 43,
   "outputs": [],
   "source": [
    "X, y = create_sequences(data.values, seq_length)"
   ],
   "metadata": {
    "collapsed": false
   }
  },
  {
   "cell_type": "code",
   "execution_count": 44,
   "outputs": [],
   "source": [
    "train_X = torch.Tensor(X[:train_size])\n",
    "train_y = torch.Tensor(y[:train_size])\n",
    "\n",
    "val_X = torch.Tensor(X[train_size:train_size+val_size])\n",
    "val_y = torch.Tensor(y[train_size:train_size+val_size])\n",
    "\n",
    "test_X = torch.Tensor(X[train_size+val_size:])\n",
    "test_y = torch.Tensor(y[train_size+val_size:])"
   ],
   "metadata": {
    "collapsed": false
   }
  },
  {
   "cell_type": "markdown",
   "source": [
    "# Define the LSTM model"
   ],
   "metadata": {
    "collapsed": false
   }
  },
  {
   "cell_type": "code",
   "execution_count": 180,
   "outputs": [],
   "source": [
    "class LSTM(nn.Module):\n",
    "    def __init__(self, input_size=5, hidden_size=60, num_layers=5, dropout=0.1):\n",
    "        super().__init__()\n",
    "        self.lstm = nn.LSTM(input_size, hidden_size, num_layers, batch_first=True, dropout=dropout)\n",
    "        self.dropout = nn.Dropout(dropout)\n",
    "        self.linear = nn.Linear(hidden_size, 5)\n",
    "        self.relu = nn.ReLU()\n",
    "        self.dense = nn.Linear(5, 5)\n",
    "        self.activation = nn.ReLU()\n",
    "\n",
    "    def forward(self, x):\n",
    "        out, _ = self.lstm(x)\n",
    "        out = self.dropout(out)\n",
    "        out = self.linear(out[:, -1, :])\n",
    "        out = self.relu(out)\n",
    "        out = self.dense(out)\n",
    "        out = self.activation(out)\n",
    "        return out\n"
   ],
   "metadata": {
    "collapsed": false
   }
  },
  {
   "cell_type": "markdown",
   "source": [
    "# Define the model hyperparameters"
   ],
   "metadata": {
    "collapsed": false
   }
  },
  {
   "cell_type": "code",
   "execution_count": 181,
   "outputs": [],
   "source": [
    "input_size = 5 # number of features (Open, High, Low, Close, Volume)\n",
    "hidden_size = 60 # number of LSTM cells\n",
    "num_layers = 5# number of LSTM layers\n",
    "learning_rate = 0.001\n",
    "num_epochs = 700"
   ],
   "metadata": {
    "collapsed": false
   }
  },
  {
   "cell_type": "code",
   "execution_count": 182,
   "outputs": [],
   "source": [
    "# Initialize the LSTM model with dropout\n",
    "model = LSTM(input_size, hidden_size, num_layers, dropout=0.1)\n",
    "\n",
    "# Define the loss function and optimizer\n",
    "criterion = nn.CrossEntropyLoss()\n",
    "optimizer = optim.Adagrad(model.parameters(), lr=learning_rate)\n",
    "\n"
   ],
   "metadata": {
    "collapsed": false
   }
  },
  {
   "cell_type": "code",
   "execution_count": 183,
   "outputs": [
    {
     "name": "stderr",
     "output_type": "stream",
     "text": [
      "C:\\Users\\User\\AppData\\Local\\Temp\\ipykernel_5368\\2751023800.py:1: UserWarning: To copy construct from a tensor, it is recommended to use sourceTensor.clone().detach() or sourceTensor.clone().detach().requires_grad_(True), rather than torch.tensor(sourceTensor).\n",
      "  train_X = torch.tensor(train_X).float()\n",
      "C:\\Users\\User\\AppData\\Local\\Temp\\ipykernel_5368\\2751023800.py:2: UserWarning: To copy construct from a tensor, it is recommended to use sourceTensor.clone().detach() or sourceTensor.clone().detach().requires_grad_(True), rather than torch.tensor(sourceTensor).\n",
      "  train_y = torch.tensor(train_y).float()\n",
      "C:\\Users\\User\\AppData\\Local\\Temp\\ipykernel_5368\\2751023800.py:3: UserWarning: To copy construct from a tensor, it is recommended to use sourceTensor.clone().detach() or sourceTensor.clone().detach().requires_grad_(True), rather than torch.tensor(sourceTensor).\n",
      "  val_X = torch.tensor(val_X).float()\n",
      "C:\\Users\\User\\AppData\\Local\\Temp\\ipykernel_5368\\2751023800.py:4: UserWarning: To copy construct from a tensor, it is recommended to use sourceTensor.clone().detach() or sourceTensor.clone().detach().requires_grad_(True), rather than torch.tensor(sourceTensor).\n",
      "  val_y = torch.tensor(val_y).float()\n",
      "C:\\Users\\User\\AppData\\Local\\Temp\\ipykernel_5368\\2751023800.py:5: UserWarning: To copy construct from a tensor, it is recommended to use sourceTensor.clone().detach() or sourceTensor.clone().detach().requires_grad_(True), rather than torch.tensor(sourceTensor).\n",
      "  test_X = torch.tensor(test_X).float()\n",
      "C:\\Users\\User\\AppData\\Local\\Temp\\ipykernel_5368\\2751023800.py:6: UserWarning: To copy construct from a tensor, it is recommended to use sourceTensor.clone().detach() or sourceTensor.clone().detach().requires_grad_(True), rather than torch.tensor(sourceTensor).\n",
      "  test_y = torch.tensor(test_y).float()\n"
     ]
    }
   ],
   "source": [
    "train_X = torch.tensor(train_X).float()\n",
    "train_y = torch.tensor(train_y).float()\n",
    "val_X = torch.tensor(val_X).float()\n",
    "val_y = torch.tensor(val_y).float()\n",
    "test_X = torch.tensor(test_X).float()\n",
    "test_y = torch.tensor(test_y).float()\n",
    "# convert the NumPy array to a PyTorch tensor"
   ],
   "metadata": {
    "collapsed": false
   }
  },
  {
   "cell_type": "code",
   "execution_count": 184,
   "outputs": [
    {
     "name": "stdout",
     "output_type": "stream",
     "text": [
      "torch.Size([818, 30, 5])\n"
     ]
    }
   ],
   "source": [
    "print(train_X.shape)"
   ],
   "metadata": {
    "collapsed": false
   }
  },
  {
   "cell_type": "code",
   "execution_count": 185,
   "outputs": [
    {
     "name": "stdout",
     "output_type": "stream",
     "text": [
      "tensor([[[0.4000, 0.0826, 0.2953, 0.0921, 0.0869],\n",
      "         [0.4067, 0.0933, 0.2299, 0.0939, 0.0943],\n",
      "         [0.3852, 0.0908, 0.2636, 0.0883, 0.0903],\n",
      "         ...,\n",
      "         [0.2623, 0.0424, 0.1866, 0.0387, 0.0430],\n",
      "         [0.2769, 0.0447, 0.1457, 0.0438, 0.0485],\n",
      "         [0.2712, 0.0457, 0.1447, 0.0422, 0.0437]],\n",
      "\n",
      "        [[0.4067, 0.0933, 0.2299, 0.0939, 0.0943],\n",
      "         [0.3852, 0.0908, 0.2636, 0.0883, 0.0903],\n",
      "         [0.3644, 0.0881, 0.2162, 0.0848, 0.0845],\n",
      "         ...,\n",
      "         [0.2769, 0.0447, 0.1457, 0.0438, 0.0485],\n",
      "         [0.2712, 0.0457, 0.1447, 0.0422, 0.0437],\n",
      "         [0.2615, 0.0469, 0.1947, 0.0430, 0.0417]],\n",
      "\n",
      "        [[0.3852, 0.0908, 0.2636, 0.0883, 0.0903],\n",
      "         [0.3644, 0.0881, 0.2162, 0.0848, 0.0845],\n",
      "         [0.3006, 0.0768, 0.4678, 0.0733, 0.0586],\n",
      "         ...,\n",
      "         [0.2712, 0.0457, 0.1447, 0.0422, 0.0437],\n",
      "         [0.2615, 0.0469, 0.1947, 0.0430, 0.0417],\n",
      "         [0.2637, 0.0379, 0.2032, 0.0393, 0.0373]],\n",
      "\n",
      "        ...,\n",
      "\n",
      "        [[0.2541, 0.5743, 0.0833, 0.5747, 0.5785],\n",
      "         [0.2865, 0.5967, 0.0910, 0.5976, 0.5946],\n",
      "         [0.2820, 0.6123, 0.0678, 0.6158, 0.6046],\n",
      "         ...,\n",
      "         [0.3712, 0.6696, 0.0564, 0.6744, 0.6759],\n",
      "         [0.3957, 0.6722, 0.0752, 0.6811, 0.6862],\n",
      "         [0.3968, 0.6891, 0.0642, 0.6844, 0.6911]],\n",
      "\n",
      "        [[0.2865, 0.5967, 0.0910, 0.5976, 0.5946],\n",
      "         [0.2820, 0.6123, 0.0678, 0.6158, 0.6046],\n",
      "         [0.3020, 0.5978, 0.0760, 0.6116, 0.6079],\n",
      "         ...,\n",
      "         [0.3957, 0.6722, 0.0752, 0.6811, 0.6862],\n",
      "         [0.3968, 0.6891, 0.0642, 0.6844, 0.6911],\n",
      "         [0.4058, 0.6838, 0.0588, 0.6877, 0.6955]],\n",
      "\n",
      "        [[0.2820, 0.6123, 0.0678, 0.6158, 0.6046],\n",
      "         [0.3020, 0.5978, 0.0760, 0.6116, 0.6079],\n",
      "         [0.3123, 0.6097, 0.0547, 0.6145, 0.6188],\n",
      "         ...,\n",
      "         [0.3968, 0.6891, 0.0642, 0.6844, 0.6911],\n",
      "         [0.4058, 0.6838, 0.0588, 0.6877, 0.6955],\n",
      "         [0.3691, 0.6890, 0.0994, 0.6839, 0.6675]]])\n"
     ]
    }
   ],
   "source": [
    "print(train_X)"
   ],
   "metadata": {
    "collapsed": false
   }
  },
  {
   "cell_type": "code",
   "execution_count": 186,
   "outputs": [
    {
     "name": "stdout",
     "output_type": "stream",
     "text": [
      "tensor(0.)\n",
      "tensor(1.)\n"
     ]
    }
   ],
   "source": [
    "print(torch.min(train_X))\n",
    "print(torch.max(train_X))"
   ],
   "metadata": {
    "collapsed": false
   }
  },
  {
   "cell_type": "markdown",
   "source": [
    "# Train the model"
   ],
   "metadata": {
    "collapsed": false
   }
  },
  {
   "cell_type": "code",
   "execution_count": 187,
   "outputs": [
    {
     "name": "stdout",
     "output_type": "stream",
     "text": [
      "Epoch [1/700], Loss: 2.3908, Accuracy: 0.4866\n",
      "Epoch [2/700], Loss: 2.3892, Accuracy: 0.4804\n",
      "Epoch [3/700], Loss: 2.3880, Accuracy: 0.4633\n",
      "Epoch [4/700], Loss: 2.3874, Accuracy: 0.4707\n",
      "Epoch [5/700], Loss: 2.3872, Accuracy: 0.4768\n",
      "Epoch [6/700], Loss: 2.3871, Accuracy: 0.4841\n",
      "Epoch [7/700], Loss: 2.3869, Accuracy: 0.4878\n",
      "Epoch [8/700], Loss: 2.3868, Accuracy: 0.4853\n",
      "Epoch [9/700], Loss: 2.3866, Accuracy: 0.4853\n",
      "Epoch [10/700], Loss: 2.3864, Accuracy: 0.4866\n",
      "Epoch [11/700], Loss: 2.3863, Accuracy: 0.4878\n",
      "Epoch [12/700], Loss: 2.3863, Accuracy: 0.4866\n",
      "Epoch [13/700], Loss: 2.3862, Accuracy: 0.4866\n",
      "Epoch [14/700], Loss: 2.3861, Accuracy: 0.4866\n",
      "Epoch [15/700], Loss: 2.3860, Accuracy: 0.4866\n",
      "Epoch [16/700], Loss: 2.3858, Accuracy: 0.4866\n",
      "Epoch [17/700], Loss: 2.3855, Accuracy: 0.4866\n",
      "Epoch [18/700], Loss: 2.3851, Accuracy: 0.4866\n",
      "Epoch [19/700], Loss: 2.3849, Accuracy: 0.4866\n",
      "Epoch [20/700], Loss: 2.3842, Accuracy: 0.4866\n",
      "Epoch [21/700], Loss: 2.3834, Accuracy: 0.4927\n",
      "Epoch [22/700], Loss: 2.3825, Accuracy: 0.5293\n",
      "Epoch [23/700], Loss: 2.3811, Accuracy: 0.5550\n",
      "Epoch [24/700], Loss: 2.3794, Accuracy: 0.6149\n",
      "Epoch [25/700], Loss: 2.3773, Accuracy: 0.6137\n",
      "Epoch [26/700], Loss: 2.3749, Accuracy: 0.6112\n",
      "Epoch [27/700], Loss: 2.3714, Accuracy: 0.6149\n",
      "Epoch [28/700], Loss: 2.3671, Accuracy: 0.6112\n",
      "Epoch [29/700], Loss: 2.3626, Accuracy: 0.6161\n",
      "Epoch [30/700], Loss: 2.3556, Accuracy: 0.6186\n",
      "Epoch [31/700], Loss: 2.3495, Accuracy: 0.6186\n",
      "Epoch [32/700], Loss: 2.3466, Accuracy: 0.6174\n",
      "Epoch [33/700], Loss: 2.3438, Accuracy: 0.6186\n",
      "Epoch [34/700], Loss: 2.3409, Accuracy: 0.6186\n",
      "Epoch [35/700], Loss: 2.3377, Accuracy: 0.6186\n",
      "Epoch [36/700], Loss: 2.3348, Accuracy: 0.6174\n",
      "Epoch [37/700], Loss: 2.3315, Accuracy: 0.6174\n",
      "Epoch [38/700], Loss: 2.3288, Accuracy: 0.6174\n",
      "Epoch [39/700], Loss: 2.3262, Accuracy: 0.6174\n",
      "Epoch [40/700], Loss: 2.3238, Accuracy: 0.6161\n",
      "Epoch [41/700], Loss: 2.3214, Accuracy: 0.6161\n",
      "Epoch [42/700], Loss: 2.3194, Accuracy: 0.6161\n",
      "Epoch [43/700], Loss: 2.3175, Accuracy: 0.6161\n",
      "Epoch [44/700], Loss: 2.3157, Accuracy: 0.6161\n",
      "Epoch [45/700], Loss: 2.3138, Accuracy: 0.6161\n",
      "Epoch [46/700], Loss: 2.3124, Accuracy: 0.6149\n",
      "Epoch [47/700], Loss: 2.3109, Accuracy: 0.6149\n",
      "Epoch [48/700], Loss: 2.3095, Accuracy: 0.6161\n",
      "Epoch [49/700], Loss: 2.3082, Accuracy: 0.6149\n",
      "Epoch [50/700], Loss: 2.3069, Accuracy: 0.6149\n",
      "Epoch [51/700], Loss: 2.3057, Accuracy: 0.6149\n",
      "Epoch [52/700], Loss: 2.3044, Accuracy: 0.6149\n",
      "Epoch [53/700], Loss: 2.3031, Accuracy: 0.6149\n",
      "Epoch [54/700], Loss: 2.3023, Accuracy: 0.6149\n",
      "Epoch [55/700], Loss: 2.3011, Accuracy: 0.6149\n",
      "Epoch [56/700], Loss: 2.3002, Accuracy: 0.6149\n",
      "Epoch [57/700], Loss: 2.2991, Accuracy: 0.6137\n",
      "Epoch [58/700], Loss: 2.2983, Accuracy: 0.6149\n",
      "Epoch [59/700], Loss: 2.2969, Accuracy: 0.6161\n",
      "Epoch [60/700], Loss: 2.2962, Accuracy: 0.6198\n",
      "Epoch [61/700], Loss: 2.2954, Accuracy: 0.6161\n",
      "Epoch [62/700], Loss: 2.2943, Accuracy: 0.6174\n",
      "Epoch [63/700], Loss: 2.2934, Accuracy: 0.6149\n",
      "Epoch [64/700], Loss: 2.2925, Accuracy: 0.6235\n",
      "Epoch [65/700], Loss: 2.2917, Accuracy: 0.6198\n",
      "Epoch [66/700], Loss: 2.2910, Accuracy: 0.6198\n",
      "Epoch [67/700], Loss: 2.2900, Accuracy: 0.6247\n",
      "Epoch [68/700], Loss: 2.2894, Accuracy: 0.6235\n",
      "Epoch [69/700], Loss: 2.2883, Accuracy: 0.6296\n",
      "Epoch [70/700], Loss: 2.2879, Accuracy: 0.6296\n",
      "Epoch [71/700], Loss: 2.2873, Accuracy: 0.6333\n",
      "Epoch [72/700], Loss: 2.2865, Accuracy: 0.6504\n",
      "Epoch [73/700], Loss: 2.2857, Accuracy: 0.6430\n",
      "Epoch [74/700], Loss: 2.2852, Accuracy: 0.6259\n",
      "Epoch [75/700], Loss: 2.2845, Accuracy: 0.6675\n",
      "Epoch [76/700], Loss: 2.2840, Accuracy: 0.6491\n",
      "Epoch [77/700], Loss: 2.2847, Accuracy: 0.6638\n",
      "Epoch [78/700], Loss: 2.2843, Accuracy: 0.6785\n",
      "Epoch [79/700], Loss: 2.2836, Accuracy: 0.6809\n",
      "Epoch [80/700], Loss: 2.2829, Accuracy: 0.6956\n",
      "Epoch [81/700], Loss: 2.2825, Accuracy: 0.6760\n",
      "Epoch [82/700], Loss: 2.2815, Accuracy: 0.6773\n",
      "Epoch [83/700], Loss: 2.2810, Accuracy: 0.6846\n",
      "Epoch [84/700], Loss: 2.2804, Accuracy: 0.6944\n",
      "Epoch [85/700], Loss: 2.2832, Accuracy: 0.6724\n",
      "Epoch [86/700], Loss: 2.2811, Accuracy: 0.6919\n",
      "Epoch [87/700], Loss: 2.2809, Accuracy: 0.6846\n",
      "Epoch [88/700], Loss: 2.2804, Accuracy: 0.6883\n",
      "Epoch [89/700], Loss: 2.2800, Accuracy: 0.6858\n",
      "Epoch [90/700], Loss: 2.2793, Accuracy: 0.6956\n",
      "Epoch [91/700], Loss: 2.2788, Accuracy: 0.6980\n",
      "Epoch [92/700], Loss: 2.2785, Accuracy: 0.7017\n",
      "Epoch [93/700], Loss: 2.2781, Accuracy: 0.6993\n",
      "Epoch [94/700], Loss: 2.2779, Accuracy: 0.6993\n",
      "Epoch [95/700], Loss: 2.2772, Accuracy: 0.6980\n",
      "Epoch [96/700], Loss: 2.2766, Accuracy: 0.7017\n",
      "Epoch [97/700], Loss: 2.2767, Accuracy: 0.6993\n",
      "Epoch [98/700], Loss: 2.2760, Accuracy: 0.7017\n",
      "Epoch [99/700], Loss: 2.2757, Accuracy: 0.7005\n",
      "Epoch [100/700], Loss: 2.2751, Accuracy: 0.6993\n",
      "Epoch [101/700], Loss: 2.2749, Accuracy: 0.7127\n",
      "Epoch [102/700], Loss: 2.2745, Accuracy: 0.7054\n",
      "Epoch [103/700], Loss: 2.2739, Accuracy: 0.7103\n",
      "Epoch [104/700], Loss: 2.2737, Accuracy: 0.7054\n",
      "Epoch [105/700], Loss: 2.2730, Accuracy: 0.7139\n",
      "Epoch [106/700], Loss: 2.2727, Accuracy: 0.7127\n",
      "Epoch [107/700], Loss: 2.2722, Accuracy: 0.7115\n",
      "Epoch [108/700], Loss: 2.2715, Accuracy: 0.7127\n",
      "Epoch [109/700], Loss: 2.2710, Accuracy: 0.7176\n",
      "Epoch [110/700], Loss: 2.2708, Accuracy: 0.7078\n",
      "Epoch [111/700], Loss: 2.2704, Accuracy: 0.7042\n",
      "Epoch [112/700], Loss: 2.2706, Accuracy: 0.7054\n",
      "Epoch [113/700], Loss: 2.2706, Accuracy: 0.7139\n",
      "Epoch [114/700], Loss: 2.2699, Accuracy: 0.7090\n",
      "Epoch [115/700], Loss: 2.2693, Accuracy: 0.7103\n",
      "Epoch [116/700], Loss: 2.2687, Accuracy: 0.7164\n",
      "Epoch [117/700], Loss: 2.2685, Accuracy: 0.7054\n",
      "Epoch [118/700], Loss: 2.2694, Accuracy: 0.7078\n",
      "Epoch [119/700], Loss: 2.2688, Accuracy: 0.7078\n",
      "Epoch [120/700], Loss: 2.2684, Accuracy: 0.7066\n",
      "Epoch [121/700], Loss: 2.2679, Accuracy: 0.7103\n",
      "Epoch [122/700], Loss: 2.2672, Accuracy: 0.7066\n",
      "Epoch [123/700], Loss: 2.2667, Accuracy: 0.7152\n",
      "Epoch [124/700], Loss: 2.2665, Accuracy: 0.7017\n",
      "Epoch [125/700], Loss: 2.2676, Accuracy: 0.7078\n",
      "Epoch [126/700], Loss: 2.2672, Accuracy: 0.7078\n",
      "Epoch [127/700], Loss: 2.2667, Accuracy: 0.7103\n",
      "Epoch [128/700], Loss: 2.2661, Accuracy: 0.7115\n",
      "Epoch [129/700], Loss: 2.2659, Accuracy: 0.7078\n",
      "Epoch [130/700], Loss: 2.2652, Accuracy: 0.7115\n",
      "Epoch [131/700], Loss: 2.2647, Accuracy: 0.7078\n",
      "Epoch [132/700], Loss: 2.2643, Accuracy: 0.7127\n",
      "Epoch [133/700], Loss: 2.2632, Accuracy: 0.7066\n",
      "Epoch [134/700], Loss: 2.2631, Accuracy: 0.7115\n",
      "Epoch [135/700], Loss: 2.2637, Accuracy: 0.7103\n",
      "Epoch [136/700], Loss: 2.2625, Accuracy: 0.7103\n",
      "Epoch [137/700], Loss: 2.2619, Accuracy: 0.7090\n",
      "Epoch [138/700], Loss: 2.2631, Accuracy: 0.7054\n",
      "Epoch [139/700], Loss: 2.2622, Accuracy: 0.7127\n",
      "Epoch [140/700], Loss: 2.2610, Accuracy: 0.7139\n",
      "Epoch [141/700], Loss: 2.2612, Accuracy: 0.7090\n",
      "Epoch [142/700], Loss: 2.2615, Accuracy: 0.7005\n",
      "Epoch [143/700], Loss: 2.2625, Accuracy: 0.7152\n",
      "Epoch [144/700], Loss: 2.2619, Accuracy: 0.7078\n",
      "Epoch [145/700], Loss: 2.2612, Accuracy: 0.7127\n",
      "Epoch [146/700], Loss: 2.2611, Accuracy: 0.7090\n",
      "Epoch [147/700], Loss: 2.2602, Accuracy: 0.7127\n",
      "Epoch [148/700], Loss: 2.2589, Accuracy: 0.7127\n",
      "Epoch [149/700], Loss: 2.2598, Accuracy: 0.6968\n",
      "Epoch [150/700], Loss: 2.2604, Accuracy: 0.7090\n",
      "Epoch [151/700], Loss: 2.2606, Accuracy: 0.7115\n",
      "Epoch [152/700], Loss: 2.2599, Accuracy: 0.7103\n",
      "Epoch [153/700], Loss: 2.2596, Accuracy: 0.7078\n",
      "Epoch [154/700], Loss: 2.2589, Accuracy: 0.7078\n",
      "Epoch [155/700], Loss: 2.2582, Accuracy: 0.7090\n",
      "Epoch [156/700], Loss: 2.2575, Accuracy: 0.7139\n",
      "Epoch [157/700], Loss: 2.2573, Accuracy: 0.7054\n",
      "Epoch [158/700], Loss: 2.2588, Accuracy: 0.7042\n",
      "Epoch [159/700], Loss: 2.2582, Accuracy: 0.7115\n",
      "Epoch [160/700], Loss: 2.2580, Accuracy: 0.7066\n",
      "Epoch [161/700], Loss: 2.2571, Accuracy: 0.7066\n",
      "Epoch [162/700], Loss: 2.2567, Accuracy: 0.7042\n",
      "Epoch [163/700], Loss: 2.2561, Accuracy: 0.7127\n",
      "Epoch [164/700], Loss: 2.2550, Accuracy: 0.7090\n",
      "Epoch [165/700], Loss: 2.2552, Accuracy: 0.7152\n",
      "Epoch [166/700], Loss: 2.2547, Accuracy: 0.7078\n",
      "Epoch [167/700], Loss: 2.2554, Accuracy: 0.7054\n",
      "Epoch [168/700], Loss: 2.2538, Accuracy: 0.7127\n",
      "Epoch [169/700], Loss: 2.2586, Accuracy: 0.6773\n",
      "Epoch [170/700], Loss: 2.2572, Accuracy: 0.7115\n",
      "Epoch [171/700], Loss: 2.2567, Accuracy: 0.7090\n",
      "Epoch [172/700], Loss: 2.2567, Accuracy: 0.7066\n",
      "Epoch [173/700], Loss: 2.2568, Accuracy: 0.7066\n",
      "Epoch [174/700], Loss: 2.2565, Accuracy: 0.7090\n",
      "Epoch [175/700], Loss: 2.2557, Accuracy: 0.7054\n",
      "Epoch [176/700], Loss: 2.2557, Accuracy: 0.7103\n",
      "Epoch [177/700], Loss: 2.2554, Accuracy: 0.7054\n",
      "Epoch [178/700], Loss: 2.2549, Accuracy: 0.7054\n",
      "Epoch [179/700], Loss: 2.2547, Accuracy: 0.7103\n",
      "Epoch [180/700], Loss: 2.2545, Accuracy: 0.6980\n",
      "Epoch [181/700], Loss: 2.2540, Accuracy: 0.7103\n",
      "Epoch [182/700], Loss: 2.2539, Accuracy: 0.7115\n",
      "Epoch [183/700], Loss: 2.2535, Accuracy: 0.7078\n",
      "Epoch [184/700], Loss: 2.2531, Accuracy: 0.7139\n",
      "Epoch [185/700], Loss: 2.2531, Accuracy: 0.7078\n",
      "Epoch [186/700], Loss: 2.2523, Accuracy: 0.7078\n",
      "Epoch [187/700], Loss: 2.2522, Accuracy: 0.7078\n",
      "Epoch [188/700], Loss: 2.2517, Accuracy: 0.7139\n",
      "Epoch [189/700], Loss: 2.2518, Accuracy: 0.7090\n",
      "Epoch [190/700], Loss: 2.2510, Accuracy: 0.7103\n",
      "Epoch [191/700], Loss: 2.2502, Accuracy: 0.7078\n",
      "Epoch [192/700], Loss: 2.2497, Accuracy: 0.7078\n",
      "Epoch [193/700], Loss: 2.2494, Accuracy: 0.7090\n",
      "Epoch [194/700], Loss: 2.2483, Accuracy: 0.7066\n",
      "Epoch [195/700], Loss: 2.2489, Accuracy: 0.7103\n",
      "Epoch [196/700], Loss: 2.2485, Accuracy: 0.7042\n",
      "Epoch [197/700], Loss: 2.2479, Accuracy: 0.7066\n",
      "Epoch [198/700], Loss: 2.2491, Accuracy: 0.6895\n",
      "Epoch [199/700], Loss: 2.2496, Accuracy: 0.7029\n",
      "Epoch [200/700], Loss: 2.2493, Accuracy: 0.7139\n",
      "Epoch [201/700], Loss: 2.2489, Accuracy: 0.7103\n",
      "Epoch [202/700], Loss: 2.2484, Accuracy: 0.7042\n",
      "Epoch [203/700], Loss: 2.2476, Accuracy: 0.7042\n",
      "Epoch [204/700], Loss: 2.2469, Accuracy: 0.7127\n",
      "Epoch [205/700], Loss: 2.2466, Accuracy: 0.7115\n",
      "Epoch [206/700], Loss: 2.2460, Accuracy: 0.6980\n",
      "Epoch [207/700], Loss: 2.2465, Accuracy: 0.7054\n",
      "Epoch [208/700], Loss: 2.2472, Accuracy: 0.7103\n",
      "Epoch [209/700], Loss: 2.2470, Accuracy: 0.7005\n",
      "Epoch [210/700], Loss: 2.2462, Accuracy: 0.7054\n",
      "Epoch [211/700], Loss: 2.2454, Accuracy: 0.7152\n",
      "Epoch [212/700], Loss: 2.2452, Accuracy: 0.7066\n",
      "Epoch [213/700], Loss: 2.2444, Accuracy: 0.7078\n",
      "Epoch [214/700], Loss: 2.2446, Accuracy: 0.7066\n",
      "Epoch [215/700], Loss: 2.2444, Accuracy: 0.7042\n",
      "Epoch [216/700], Loss: 2.2437, Accuracy: 0.7115\n",
      "Epoch [217/700], Loss: 2.2441, Accuracy: 0.7017\n",
      "Epoch [218/700], Loss: 2.2459, Accuracy: 0.7042\n",
      "Epoch [219/700], Loss: 2.2446, Accuracy: 0.7054\n",
      "Epoch [220/700], Loss: 2.2437, Accuracy: 0.7054\n",
      "Epoch [221/700], Loss: 2.2427, Accuracy: 0.7164\n",
      "Epoch [222/700], Loss: 2.2429, Accuracy: 0.6980\n",
      "Epoch [223/700], Loss: 2.2440, Accuracy: 0.7090\n",
      "Epoch [224/700], Loss: 2.2433, Accuracy: 0.7054\n",
      "Epoch [225/700], Loss: 2.2423, Accuracy: 0.7090\n",
      "Epoch [226/700], Loss: 2.2418, Accuracy: 0.7152\n",
      "Epoch [227/700], Loss: 2.2414, Accuracy: 0.7054\n",
      "Epoch [228/700], Loss: 2.2418, Accuracy: 0.7042\n",
      "Epoch [229/700], Loss: 2.2413, Accuracy: 0.7029\n",
      "Epoch [230/700], Loss: 2.2415, Accuracy: 0.7054\n",
      "Epoch [231/700], Loss: 2.2409, Accuracy: 0.7029\n",
      "Epoch [232/700], Loss: 2.2403, Accuracy: 0.6993\n",
      "Epoch [233/700], Loss: 2.2428, Accuracy: 0.6932\n",
      "Epoch [234/700], Loss: 2.2428, Accuracy: 0.7005\n",
      "Epoch [235/700], Loss: 2.2426, Accuracy: 0.7139\n",
      "Epoch [236/700], Loss: 2.2416, Accuracy: 0.7054\n",
      "Epoch [237/700], Loss: 2.2408, Accuracy: 0.6980\n",
      "Epoch [238/700], Loss: 2.2400, Accuracy: 0.7017\n",
      "Epoch [239/700], Loss: 2.2397, Accuracy: 0.7042\n",
      "Epoch [240/700], Loss: 2.2398, Accuracy: 0.7054\n",
      "Epoch [241/700], Loss: 2.2388, Accuracy: 0.7054\n",
      "Epoch [242/700], Loss: 2.2389, Accuracy: 0.7103\n",
      "Epoch [243/700], Loss: 2.2387, Accuracy: 0.6993\n",
      "Epoch [244/700], Loss: 2.2390, Accuracy: 0.6968\n",
      "Epoch [245/700], Loss: 2.2392, Accuracy: 0.7054\n",
      "Epoch [246/700], Loss: 2.2381, Accuracy: 0.7152\n",
      "Epoch [247/700], Loss: 2.2374, Accuracy: 0.7200\n",
      "Epoch [248/700], Loss: 2.2377, Accuracy: 0.7029\n",
      "Epoch [249/700], Loss: 2.2378, Accuracy: 0.7115\n",
      "Epoch [250/700], Loss: 2.2374, Accuracy: 0.7017\n",
      "Epoch [251/700], Loss: 2.2372, Accuracy: 0.6956\n",
      "Epoch [252/700], Loss: 2.2381, Accuracy: 0.6883\n",
      "Epoch [253/700], Loss: 2.2386, Accuracy: 0.7139\n",
      "Epoch [254/700], Loss: 2.2374, Accuracy: 0.7090\n",
      "Epoch [255/700], Loss: 2.2366, Accuracy: 0.7090\n",
      "Epoch [256/700], Loss: 2.2367, Accuracy: 0.7017\n",
      "Epoch [257/700], Loss: 2.2368, Accuracy: 0.7005\n",
      "Epoch [258/700], Loss: 2.2361, Accuracy: 0.7066\n",
      "Epoch [259/700], Loss: 2.2362, Accuracy: 0.7054\n",
      "Epoch [260/700], Loss: 2.2364, Accuracy: 0.7115\n",
      "Epoch [261/700], Loss: 2.2367, Accuracy: 0.6993\n",
      "Epoch [262/700], Loss: 2.2355, Accuracy: 0.7200\n",
      "Epoch [263/700], Loss: 2.2356, Accuracy: 0.6748\n",
      "Epoch [264/700], Loss: 2.2353, Accuracy: 0.7017\n",
      "Epoch [265/700], Loss: 2.2346, Accuracy: 0.7078\n",
      "Epoch [266/700], Loss: 2.2349, Accuracy: 0.7090\n",
      "Epoch [267/700], Loss: 2.2345, Accuracy: 0.7090\n",
      "Epoch [268/700], Loss: 2.2348, Accuracy: 0.6932\n",
      "Epoch [269/700], Loss: 2.2338, Accuracy: 0.6944\n",
      "Epoch [270/700], Loss: 2.2343, Accuracy: 0.7029\n",
      "Epoch [271/700], Loss: 2.2339, Accuracy: 0.7078\n",
      "Epoch [272/700], Loss: 2.2336, Accuracy: 0.7054\n",
      "Epoch [273/700], Loss: 2.2330, Accuracy: 0.7054\n",
      "Epoch [274/700], Loss: 2.2332, Accuracy: 0.7042\n",
      "Epoch [275/700], Loss: 2.2328, Accuracy: 0.7188\n",
      "Epoch [276/700], Loss: 2.2356, Accuracy: 0.6797\n",
      "Epoch [277/700], Loss: 2.2363, Accuracy: 0.6993\n",
      "Epoch [278/700], Loss: 2.2350, Accuracy: 0.6907\n",
      "Epoch [279/700], Loss: 2.2337, Accuracy: 0.6968\n",
      "Epoch [280/700], Loss: 2.2326, Accuracy: 0.7005\n",
      "Epoch [281/700], Loss: 2.2322, Accuracy: 0.6980\n",
      "Epoch [282/700], Loss: 2.2320, Accuracy: 0.7054\n",
      "Epoch [283/700], Loss: 2.2318, Accuracy: 0.7054\n",
      "Epoch [284/700], Loss: 2.2323, Accuracy: 0.6932\n",
      "Epoch [285/700], Loss: 2.2326, Accuracy: 0.6980\n",
      "Epoch [286/700], Loss: 2.2315, Accuracy: 0.7090\n",
      "Epoch [287/700], Loss: 2.2315, Accuracy: 0.7029\n",
      "Epoch [288/700], Loss: 2.2316, Accuracy: 0.6907\n",
      "Epoch [289/700], Loss: 2.2310, Accuracy: 0.7005\n",
      "Epoch [290/700], Loss: 2.2305, Accuracy: 0.7054\n",
      "Epoch [291/700], Loss: 2.2309, Accuracy: 0.6919\n",
      "Epoch [292/700], Loss: 2.2306, Accuracy: 0.6932\n",
      "Epoch [293/700], Loss: 2.2300, Accuracy: 0.7152\n",
      "Epoch [294/700], Loss: 2.2304, Accuracy: 0.6907\n",
      "Epoch [295/700], Loss: 2.2307, Accuracy: 0.7066\n",
      "Epoch [296/700], Loss: 2.2293, Accuracy: 0.6968\n",
      "Epoch [297/700], Loss: 2.2309, Accuracy: 0.7005\n",
      "Epoch [298/700], Loss: 2.2324, Accuracy: 0.6980\n",
      "Epoch [299/700], Loss: 2.2307, Accuracy: 0.7029\n",
      "Epoch [300/700], Loss: 2.2300, Accuracy: 0.7042\n",
      "Epoch [301/700], Loss: 2.2293, Accuracy: 0.7115\n",
      "Epoch [302/700], Loss: 2.2287, Accuracy: 0.6980\n",
      "Epoch [303/700], Loss: 2.2291, Accuracy: 0.7005\n",
      "Epoch [304/700], Loss: 2.2288, Accuracy: 0.6980\n",
      "Epoch [305/700], Loss: 2.2288, Accuracy: 0.7005\n",
      "Epoch [306/700], Loss: 2.2278, Accuracy: 0.6980\n",
      "Epoch [307/700], Loss: 2.2282, Accuracy: 0.7115\n",
      "Epoch [308/700], Loss: 2.2288, Accuracy: 0.6919\n",
      "Epoch [309/700], Loss: 2.2278, Accuracy: 0.6993\n",
      "Epoch [310/700], Loss: 2.2277, Accuracy: 0.7090\n",
      "Epoch [311/700], Loss: 2.2274, Accuracy: 0.6822\n",
      "Epoch [312/700], Loss: 2.2273, Accuracy: 0.7005\n",
      "Epoch [313/700], Loss: 2.2273, Accuracy: 0.6895\n",
      "Epoch [314/700], Loss: 2.2273, Accuracy: 0.6858\n",
      "Epoch [315/700], Loss: 2.2271, Accuracy: 0.6932\n",
      "Epoch [316/700], Loss: 2.2268, Accuracy: 0.6932\n",
      "Epoch [317/700], Loss: 2.2264, Accuracy: 0.7017\n",
      "Epoch [318/700], Loss: 2.2264, Accuracy: 0.6895\n",
      "Epoch [319/700], Loss: 2.2263, Accuracy: 0.6870\n",
      "Epoch [320/700], Loss: 2.2263, Accuracy: 0.6907\n",
      "Epoch [321/700], Loss: 2.2266, Accuracy: 0.7005\n",
      "Epoch [322/700], Loss: 2.2258, Accuracy: 0.7054\n",
      "Epoch [323/700], Loss: 2.2257, Accuracy: 0.6956\n",
      "Epoch [324/700], Loss: 2.2257, Accuracy: 0.7090\n",
      "Epoch [325/700], Loss: 2.2258, Accuracy: 0.6968\n",
      "Epoch [326/700], Loss: 2.2254, Accuracy: 0.7017\n",
      "Epoch [327/700], Loss: 2.2254, Accuracy: 0.6944\n",
      "Epoch [328/700], Loss: 2.2250, Accuracy: 0.6870\n",
      "Epoch [329/700], Loss: 2.2252, Accuracy: 0.7017\n",
      "Epoch [330/700], Loss: 2.2252, Accuracy: 0.6895\n",
      "Epoch [331/700], Loss: 2.2242, Accuracy: 0.7005\n",
      "Epoch [332/700], Loss: 2.2246, Accuracy: 0.7017\n",
      "Epoch [333/700], Loss: 2.2252, Accuracy: 0.7005\n",
      "Epoch [334/700], Loss: 2.2242, Accuracy: 0.7005\n",
      "Epoch [335/700], Loss: 2.2239, Accuracy: 0.6993\n",
      "Epoch [336/700], Loss: 2.2237, Accuracy: 0.7042\n",
      "Epoch [337/700], Loss: 2.2240, Accuracy: 0.6870\n",
      "Epoch [338/700], Loss: 2.2240, Accuracy: 0.6846\n",
      "Epoch [339/700], Loss: 2.2242, Accuracy: 0.7017\n",
      "Epoch [340/700], Loss: 2.2231, Accuracy: 0.7017\n",
      "Epoch [341/700], Loss: 2.2237, Accuracy: 0.6858\n",
      "Epoch [342/700], Loss: 2.2235, Accuracy: 0.6932\n",
      "Epoch [343/700], Loss: 2.2231, Accuracy: 0.6968\n",
      "Epoch [344/700], Loss: 2.2229, Accuracy: 0.7054\n",
      "Epoch [345/700], Loss: 2.2230, Accuracy: 0.6956\n",
      "Epoch [346/700], Loss: 2.2224, Accuracy: 0.6870\n",
      "Epoch [347/700], Loss: 2.2231, Accuracy: 0.7017\n",
      "Epoch [348/700], Loss: 2.2224, Accuracy: 0.6944\n",
      "Epoch [349/700], Loss: 2.2221, Accuracy: 0.6919\n",
      "Epoch [350/700], Loss: 2.2220, Accuracy: 0.6834\n",
      "Epoch [351/700], Loss: 2.2219, Accuracy: 0.7115\n",
      "Epoch [352/700], Loss: 2.2217, Accuracy: 0.6822\n",
      "Epoch [353/700], Loss: 2.2223, Accuracy: 0.6834\n",
      "Epoch [354/700], Loss: 2.2235, Accuracy: 0.6834\n",
      "Epoch [355/700], Loss: 2.2220, Accuracy: 0.6895\n",
      "Epoch [356/700], Loss: 2.2217, Accuracy: 0.7127\n",
      "Epoch [357/700], Loss: 2.2213, Accuracy: 0.6883\n",
      "Epoch [358/700], Loss: 2.2208, Accuracy: 0.7054\n",
      "Epoch [359/700], Loss: 2.2208, Accuracy: 0.7200\n",
      "Epoch [360/700], Loss: 2.2212, Accuracy: 0.6944\n",
      "Epoch [361/700], Loss: 2.2215, Accuracy: 0.6932\n",
      "Epoch [362/700], Loss: 2.2205, Accuracy: 0.6944\n",
      "Epoch [363/700], Loss: 2.2206, Accuracy: 0.6944\n",
      "Epoch [364/700], Loss: 2.2206, Accuracy: 0.6932\n",
      "Epoch [365/700], Loss: 2.2200, Accuracy: 0.6919\n",
      "Epoch [366/700], Loss: 2.2199, Accuracy: 0.6907\n",
      "Epoch [367/700], Loss: 2.2202, Accuracy: 0.6907\n",
      "Epoch [368/700], Loss: 2.2203, Accuracy: 0.6907\n",
      "Epoch [369/700], Loss: 2.2195, Accuracy: 0.6932\n",
      "Epoch [370/700], Loss: 2.2196, Accuracy: 0.6846\n",
      "Epoch [371/700], Loss: 2.2197, Accuracy: 0.6932\n",
      "Epoch [372/700], Loss: 2.2188, Accuracy: 0.6932\n",
      "Epoch [373/700], Loss: 2.2188, Accuracy: 0.6809\n",
      "Epoch [374/700], Loss: 2.2191, Accuracy: 0.6822\n",
      "Epoch [375/700], Loss: 2.2187, Accuracy: 0.6956\n",
      "Epoch [376/700], Loss: 2.2189, Accuracy: 0.6895\n",
      "Epoch [377/700], Loss: 2.2191, Accuracy: 0.6944\n",
      "Epoch [378/700], Loss: 2.2189, Accuracy: 0.6724\n",
      "Epoch [379/700], Loss: 2.2180, Accuracy: 0.6883\n",
      "Epoch [380/700], Loss: 2.2186, Accuracy: 0.7127\n",
      "Epoch [381/700], Loss: 2.2188, Accuracy: 0.6822\n",
      "Epoch [382/700], Loss: 2.2181, Accuracy: 0.6919\n",
      "Epoch [383/700], Loss: 2.2176, Accuracy: 0.6711\n",
      "Epoch [384/700], Loss: 2.2192, Accuracy: 0.6895\n",
      "Epoch [385/700], Loss: 2.2190, Accuracy: 0.6883\n",
      "Epoch [386/700], Loss: 2.2180, Accuracy: 0.6919\n",
      "Epoch [387/700], Loss: 2.2171, Accuracy: 0.6907\n",
      "Epoch [388/700], Loss: 2.2177, Accuracy: 0.6883\n",
      "Epoch [389/700], Loss: 2.2172, Accuracy: 0.7005\n",
      "Epoch [390/700], Loss: 2.2169, Accuracy: 0.6858\n",
      "Epoch [391/700], Loss: 2.2170, Accuracy: 0.6956\n",
      "Epoch [392/700], Loss: 2.2170, Accuracy: 0.6956\n",
      "Epoch [393/700], Loss: 2.2169, Accuracy: 0.6993\n",
      "Epoch [394/700], Loss: 2.2167, Accuracy: 0.6895\n",
      "Epoch [395/700], Loss: 2.2166, Accuracy: 0.7017\n",
      "Epoch [396/700], Loss: 2.2163, Accuracy: 0.6919\n",
      "Epoch [397/700], Loss: 2.2165, Accuracy: 0.6858\n",
      "Epoch [398/700], Loss: 2.2160, Accuracy: 0.6907\n",
      "Epoch [399/700], Loss: 2.2164, Accuracy: 0.6870\n",
      "Epoch [400/700], Loss: 2.2166, Accuracy: 0.7139\n",
      "Epoch [401/700], Loss: 2.2157, Accuracy: 0.6858\n",
      "Epoch [402/700], Loss: 2.2154, Accuracy: 0.7017\n",
      "Epoch [403/700], Loss: 2.2158, Accuracy: 0.6883\n",
      "Epoch [404/700], Loss: 2.2153, Accuracy: 0.6932\n",
      "Epoch [405/700], Loss: 2.2154, Accuracy: 0.6773\n",
      "Epoch [406/700], Loss: 2.2151, Accuracy: 0.6907\n",
      "Epoch [407/700], Loss: 2.2156, Accuracy: 0.6932\n",
      "Epoch [408/700], Loss: 2.2156, Accuracy: 0.6932\n",
      "Epoch [409/700], Loss: 2.2153, Accuracy: 0.7029\n",
      "Epoch [410/700], Loss: 2.2148, Accuracy: 0.6907\n",
      "Epoch [411/700], Loss: 2.2155, Accuracy: 0.6895\n",
      "Epoch [412/700], Loss: 2.2152, Accuracy: 0.6797\n",
      "Epoch [413/700], Loss: 2.2150, Accuracy: 0.6870\n",
      "Epoch [414/700], Loss: 2.2148, Accuracy: 0.6919\n",
      "Epoch [415/700], Loss: 2.2143, Accuracy: 0.6834\n",
      "Epoch [416/700], Loss: 2.2144, Accuracy: 0.6822\n",
      "Epoch [417/700], Loss: 2.2141, Accuracy: 0.6907\n",
      "Epoch [418/700], Loss: 2.2142, Accuracy: 0.6932\n",
      "Epoch [419/700], Loss: 2.2134, Accuracy: 0.6932\n",
      "Epoch [420/700], Loss: 2.2136, Accuracy: 0.6919\n",
      "Epoch [421/700], Loss: 2.2137, Accuracy: 0.6846\n",
      "Epoch [422/700], Loss: 2.2141, Accuracy: 0.6932\n",
      "Epoch [423/700], Loss: 2.2136, Accuracy: 0.6968\n",
      "Epoch [424/700], Loss: 2.2134, Accuracy: 0.6980\n",
      "Epoch [425/700], Loss: 2.2133, Accuracy: 0.6883\n",
      "Epoch [426/700], Loss: 2.2131, Accuracy: 0.6822\n",
      "Epoch [427/700], Loss: 2.2133, Accuracy: 0.6870\n",
      "Epoch [428/700], Loss: 2.2133, Accuracy: 0.6932\n",
      "Epoch [429/700], Loss: 2.2127, Accuracy: 0.6822\n",
      "Epoch [430/700], Loss: 2.2128, Accuracy: 0.6993\n",
      "Epoch [431/700], Loss: 2.2130, Accuracy: 0.6870\n",
      "Epoch [432/700], Loss: 2.2127, Accuracy: 0.6760\n",
      "Epoch [433/700], Loss: 2.2126, Accuracy: 0.6809\n",
      "Epoch [434/700], Loss: 2.2123, Accuracy: 0.7017\n",
      "Epoch [435/700], Loss: 2.2127, Accuracy: 0.6980\n",
      "Epoch [436/700], Loss: 2.2128, Accuracy: 0.6895\n",
      "Epoch [437/700], Loss: 2.2121, Accuracy: 0.6956\n",
      "Epoch [438/700], Loss: 2.2118, Accuracy: 0.6650\n",
      "Epoch [439/700], Loss: 2.2121, Accuracy: 0.6834\n",
      "Epoch [440/700], Loss: 2.2120, Accuracy: 0.6883\n",
      "Epoch [441/700], Loss: 2.2116, Accuracy: 0.6907\n",
      "Epoch [442/700], Loss: 2.2118, Accuracy: 0.6919\n",
      "Epoch [443/700], Loss: 2.2116, Accuracy: 0.7005\n",
      "Epoch [444/700], Loss: 2.2114, Accuracy: 0.6822\n",
      "Epoch [445/700], Loss: 2.2113, Accuracy: 0.6883\n",
      "Epoch [446/700], Loss: 2.2116, Accuracy: 0.6797\n",
      "Epoch [447/700], Loss: 2.2111, Accuracy: 0.6932\n",
      "Epoch [448/700], Loss: 2.2112, Accuracy: 0.6822\n",
      "Epoch [449/700], Loss: 2.2113, Accuracy: 0.6785\n",
      "Epoch [450/700], Loss: 2.2108, Accuracy: 0.6846\n",
      "Epoch [451/700], Loss: 2.2108, Accuracy: 0.6895\n",
      "Epoch [452/700], Loss: 2.2108, Accuracy: 0.6932\n",
      "Epoch [453/700], Loss: 2.2106, Accuracy: 0.6711\n",
      "Epoch [454/700], Loss: 2.2103, Accuracy: 0.6907\n",
      "Epoch [455/700], Loss: 2.2102, Accuracy: 0.6907\n",
      "Epoch [456/700], Loss: 2.2103, Accuracy: 0.6822\n",
      "Epoch [457/700], Loss: 2.2103, Accuracy: 0.6870\n",
      "Epoch [458/700], Loss: 2.2100, Accuracy: 0.6614\n",
      "Epoch [459/700], Loss: 2.2104, Accuracy: 0.6907\n",
      "Epoch [460/700], Loss: 2.2101, Accuracy: 0.6846\n",
      "Epoch [461/700], Loss: 2.2098, Accuracy: 0.6895\n",
      "Epoch [462/700], Loss: 2.2100, Accuracy: 0.6907\n",
      "Epoch [463/700], Loss: 2.2095, Accuracy: 0.6822\n",
      "Epoch [464/700], Loss: 2.2093, Accuracy: 0.6822\n",
      "Epoch [465/700], Loss: 2.2092, Accuracy: 0.6858\n",
      "Epoch [466/700], Loss: 2.2091, Accuracy: 0.6834\n",
      "Epoch [467/700], Loss: 2.2093, Accuracy: 0.6822\n",
      "Epoch [468/700], Loss: 2.2097, Accuracy: 0.6809\n",
      "Epoch [469/700], Loss: 2.2093, Accuracy: 0.6883\n",
      "Epoch [470/700], Loss: 2.2090, Accuracy: 0.6858\n",
      "Epoch [471/700], Loss: 2.2086, Accuracy: 0.6736\n",
      "Epoch [472/700], Loss: 2.2093, Accuracy: 0.6822\n",
      "Epoch [473/700], Loss: 2.2091, Accuracy: 0.6944\n",
      "Epoch [474/700], Loss: 2.2089, Accuracy: 0.6785\n",
      "Epoch [475/700], Loss: 2.2086, Accuracy: 0.6748\n",
      "Epoch [476/700], Loss: 2.2085, Accuracy: 0.6760\n",
      "Epoch [477/700], Loss: 2.2084, Accuracy: 0.6956\n",
      "Epoch [478/700], Loss: 2.2087, Accuracy: 0.6895\n",
      "Epoch [479/700], Loss: 2.2085, Accuracy: 0.6834\n",
      "Epoch [480/700], Loss: 2.2084, Accuracy: 0.6883\n",
      "Epoch [481/700], Loss: 2.2086, Accuracy: 0.6834\n",
      "Epoch [482/700], Loss: 2.2081, Accuracy: 0.6773\n",
      "Epoch [483/700], Loss: 2.2080, Accuracy: 0.6858\n",
      "Epoch [484/700], Loss: 2.2081, Accuracy: 0.6980\n",
      "Epoch [485/700], Loss: 2.2078, Accuracy: 0.6858\n",
      "Epoch [486/700], Loss: 2.2076, Accuracy: 0.6724\n",
      "Epoch [487/700], Loss: 2.2078, Accuracy: 0.6809\n",
      "Epoch [488/700], Loss: 2.2074, Accuracy: 0.6797\n",
      "Epoch [489/700], Loss: 2.2076, Accuracy: 0.6809\n",
      "Epoch [490/700], Loss: 2.2073, Accuracy: 0.6773\n",
      "Epoch [491/700], Loss: 2.2074, Accuracy: 0.6809\n",
      "Epoch [492/700], Loss: 2.2074, Accuracy: 0.6883\n",
      "Epoch [493/700], Loss: 2.2073, Accuracy: 0.6956\n",
      "Epoch [494/700], Loss: 2.2071, Accuracy: 0.6846\n",
      "Epoch [495/700], Loss: 2.2069, Accuracy: 0.6870\n",
      "Epoch [496/700], Loss: 2.2066, Accuracy: 0.6797\n",
      "Epoch [497/700], Loss: 2.2066, Accuracy: 0.6773\n",
      "Epoch [498/700], Loss: 2.2069, Accuracy: 0.6675\n",
      "Epoch [499/700], Loss: 2.2068, Accuracy: 0.6858\n",
      "Epoch [500/700], Loss: 2.2063, Accuracy: 0.6773\n",
      "Epoch [501/700], Loss: 2.2060, Accuracy: 0.6760\n",
      "Epoch [502/700], Loss: 2.2068, Accuracy: 0.6932\n",
      "Epoch [503/700], Loss: 2.2062, Accuracy: 0.6895\n",
      "Epoch [504/700], Loss: 2.2063, Accuracy: 0.6858\n",
      "Epoch [505/700], Loss: 2.2059, Accuracy: 0.6980\n",
      "Epoch [506/700], Loss: 2.2059, Accuracy: 0.6858\n",
      "Epoch [507/700], Loss: 2.2059, Accuracy: 0.6883\n",
      "Epoch [508/700], Loss: 2.2056, Accuracy: 0.6846\n",
      "Epoch [509/700], Loss: 2.2060, Accuracy: 0.6773\n",
      "Epoch [510/700], Loss: 2.2059, Accuracy: 0.6822\n",
      "Epoch [511/700], Loss: 2.2056, Accuracy: 0.6626\n",
      "Epoch [512/700], Loss: 2.2054, Accuracy: 0.6870\n",
      "Epoch [513/700], Loss: 2.2058, Accuracy: 0.6907\n",
      "Epoch [514/700], Loss: 2.2054, Accuracy: 0.6711\n",
      "Epoch [515/700], Loss: 2.2049, Accuracy: 0.6797\n",
      "Epoch [516/700], Loss: 2.2053, Accuracy: 0.6846\n",
      "Epoch [517/700], Loss: 2.2053, Accuracy: 0.6858\n",
      "Epoch [518/700], Loss: 2.2052, Accuracy: 0.7017\n",
      "Epoch [519/700], Loss: 2.2050, Accuracy: 0.6724\n",
      "Epoch [520/700], Loss: 2.2048, Accuracy: 0.6736\n",
      "Epoch [521/700], Loss: 2.2049, Accuracy: 0.6919\n",
      "Epoch [522/700], Loss: 2.2047, Accuracy: 0.6760\n",
      "Epoch [523/700], Loss: 2.2047, Accuracy: 0.6834\n",
      "Epoch [524/700], Loss: 2.2045, Accuracy: 0.6968\n",
      "Epoch [525/700], Loss: 2.2047, Accuracy: 0.6956\n",
      "Epoch [526/700], Loss: 2.2043, Accuracy: 0.6932\n",
      "Epoch [527/700], Loss: 2.2044, Accuracy: 0.6748\n",
      "Epoch [528/700], Loss: 2.2045, Accuracy: 0.6846\n",
      "Epoch [529/700], Loss: 2.2040, Accuracy: 0.6846\n",
      "Epoch [530/700], Loss: 2.2044, Accuracy: 0.6870\n",
      "Epoch [531/700], Loss: 2.2041, Accuracy: 0.6895\n",
      "Epoch [532/700], Loss: 2.2043, Accuracy: 0.7029\n",
      "Epoch [533/700], Loss: 2.2042, Accuracy: 0.6944\n",
      "Epoch [534/700], Loss: 2.2039, Accuracy: 0.6870\n",
      "Epoch [535/700], Loss: 2.2036, Accuracy: 0.6650\n",
      "Epoch [536/700], Loss: 2.2037, Accuracy: 0.7005\n",
      "Epoch [537/700], Loss: 2.2036, Accuracy: 0.6919\n",
      "Epoch [538/700], Loss: 2.2037, Accuracy: 0.6736\n",
      "Epoch [539/700], Loss: 2.2035, Accuracy: 0.6907\n",
      "Epoch [540/700], Loss: 2.2034, Accuracy: 0.6956\n",
      "Epoch [541/700], Loss: 2.2032, Accuracy: 0.6883\n",
      "Epoch [542/700], Loss: 2.2035, Accuracy: 0.6907\n",
      "Epoch [543/700], Loss: 2.2030, Accuracy: 0.6932\n",
      "Epoch [544/700], Loss: 2.2030, Accuracy: 0.6846\n",
      "Epoch [545/700], Loss: 2.2031, Accuracy: 0.6907\n",
      "Epoch [546/700], Loss: 2.2032, Accuracy: 0.6785\n",
      "Epoch [547/700], Loss: 2.2028, Accuracy: 0.7042\n",
      "Epoch [548/700], Loss: 2.2030, Accuracy: 0.6773\n",
      "Epoch [549/700], Loss: 2.2028, Accuracy: 0.6638\n",
      "Epoch [550/700], Loss: 2.2025, Accuracy: 0.6919\n",
      "Epoch [551/700], Loss: 2.2030, Accuracy: 0.6809\n",
      "Epoch [552/700], Loss: 2.2027, Accuracy: 0.6809\n",
      "Epoch [553/700], Loss: 2.2027, Accuracy: 0.6785\n",
      "Epoch [554/700], Loss: 2.2025, Accuracy: 0.6822\n",
      "Epoch [555/700], Loss: 2.2028, Accuracy: 0.6785\n",
      "Epoch [556/700], Loss: 2.2026, Accuracy: 0.6809\n",
      "Epoch [557/700], Loss: 2.2024, Accuracy: 0.6895\n",
      "Epoch [558/700], Loss: 2.2024, Accuracy: 0.6846\n",
      "Epoch [559/700], Loss: 2.2023, Accuracy: 0.6980\n",
      "Epoch [560/700], Loss: 2.2020, Accuracy: 0.6760\n",
      "Epoch [561/700], Loss: 2.2017, Accuracy: 0.7090\n",
      "Epoch [562/700], Loss: 2.2022, Accuracy: 0.6797\n",
      "Epoch [563/700], Loss: 2.2019, Accuracy: 0.6846\n",
      "Epoch [564/700], Loss: 2.2017, Accuracy: 0.6785\n",
      "Epoch [565/700], Loss: 2.2021, Accuracy: 0.6760\n",
      "Epoch [566/700], Loss: 2.2020, Accuracy: 0.6797\n",
      "Epoch [567/700], Loss: 2.2018, Accuracy: 0.6809\n",
      "Epoch [568/700], Loss: 2.2017, Accuracy: 0.6675\n",
      "Epoch [569/700], Loss: 2.2014, Accuracy: 0.6834\n",
      "Epoch [570/700], Loss: 2.2011, Accuracy: 0.6736\n",
      "Epoch [571/700], Loss: 2.2007, Accuracy: 0.6956\n",
      "Epoch [572/700], Loss: 2.2010, Accuracy: 0.6809\n",
      "Epoch [573/700], Loss: 2.2015, Accuracy: 0.6773\n",
      "Epoch [574/700], Loss: 2.2013, Accuracy: 0.6907\n",
      "Epoch [575/700], Loss: 2.2008, Accuracy: 0.6944\n",
      "Epoch [576/700], Loss: 2.2009, Accuracy: 0.6748\n",
      "Epoch [577/700], Loss: 2.2009, Accuracy: 0.6858\n",
      "Epoch [578/700], Loss: 2.2010, Accuracy: 0.6980\n",
      "Epoch [579/700], Loss: 2.2007, Accuracy: 0.6822\n",
      "Epoch [580/700], Loss: 2.2007, Accuracy: 0.6870\n",
      "Epoch [581/700], Loss: 2.2004, Accuracy: 0.7005\n",
      "Epoch [582/700], Loss: 2.2010, Accuracy: 0.7005\n",
      "Epoch [583/700], Loss: 2.2006, Accuracy: 0.6870\n",
      "Epoch [584/700], Loss: 2.2006, Accuracy: 0.7029\n",
      "Epoch [585/700], Loss: 2.2002, Accuracy: 0.6797\n",
      "Epoch [586/700], Loss: 2.2006, Accuracy: 0.6748\n",
      "Epoch [587/700], Loss: 2.2007, Accuracy: 0.6895\n",
      "Epoch [588/700], Loss: 2.2000, Accuracy: 0.6870\n",
      "Epoch [589/700], Loss: 2.2003, Accuracy: 0.6846\n",
      "Epoch [590/700], Loss: 2.2005, Accuracy: 0.6895\n",
      "Epoch [591/700], Loss: 2.2002, Accuracy: 0.6870\n",
      "Epoch [592/700], Loss: 2.1998, Accuracy: 0.6846\n",
      "Epoch [593/700], Loss: 2.1998, Accuracy: 0.6822\n",
      "Epoch [594/700], Loss: 2.2002, Accuracy: 0.6895\n",
      "Epoch [595/700], Loss: 2.1999, Accuracy: 0.6711\n",
      "Epoch [596/700], Loss: 2.1994, Accuracy: 0.6932\n",
      "Epoch [597/700], Loss: 2.1995, Accuracy: 0.6760\n",
      "Epoch [598/700], Loss: 2.1999, Accuracy: 0.6663\n",
      "Epoch [599/700], Loss: 2.1997, Accuracy: 0.6528\n",
      "Epoch [600/700], Loss: 2.1999, Accuracy: 0.6748\n",
      "Epoch [601/700], Loss: 2.1994, Accuracy: 0.6675\n",
      "Epoch [602/700], Loss: 2.1993, Accuracy: 0.6748\n",
      "Epoch [603/700], Loss: 2.1997, Accuracy: 0.6993\n",
      "Epoch [604/700], Loss: 2.1991, Accuracy: 0.6638\n",
      "Epoch [605/700], Loss: 2.1993, Accuracy: 0.6834\n",
      "Epoch [606/700], Loss: 2.1993, Accuracy: 0.6870\n",
      "Epoch [607/700], Loss: 2.1991, Accuracy: 0.6993\n",
      "Epoch [608/700], Loss: 2.1990, Accuracy: 0.6846\n",
      "Epoch [609/700], Loss: 2.1990, Accuracy: 0.6809\n",
      "Epoch [610/700], Loss: 2.1991, Accuracy: 0.6699\n",
      "Epoch [611/700], Loss: 2.1989, Accuracy: 0.6699\n",
      "Epoch [612/700], Loss: 2.1987, Accuracy: 0.6724\n",
      "Epoch [613/700], Loss: 2.1988, Accuracy: 0.6626\n",
      "Epoch [614/700], Loss: 2.1987, Accuracy: 0.6809\n",
      "Epoch [615/700], Loss: 2.1985, Accuracy: 0.6675\n",
      "Epoch [616/700], Loss: 2.1983, Accuracy: 0.6797\n",
      "Epoch [617/700], Loss: 2.1986, Accuracy: 0.6748\n",
      "Epoch [618/700], Loss: 2.1986, Accuracy: 0.6626\n",
      "Epoch [619/700], Loss: 2.1983, Accuracy: 0.6895\n",
      "Epoch [620/700], Loss: 2.1987, Accuracy: 0.6687\n",
      "Epoch [621/700], Loss: 2.1985, Accuracy: 0.6883\n",
      "Epoch [622/700], Loss: 2.1980, Accuracy: 0.6907\n",
      "Epoch [623/700], Loss: 2.1988, Accuracy: 0.6663\n",
      "Epoch [624/700], Loss: 2.1987, Accuracy: 0.6834\n",
      "Epoch [625/700], Loss: 2.1981, Accuracy: 0.6736\n",
      "Epoch [626/700], Loss: 2.1979, Accuracy: 0.6687\n",
      "Epoch [627/700], Loss: 2.1981, Accuracy: 0.6907\n",
      "Epoch [628/700], Loss: 2.1979, Accuracy: 0.6932\n",
      "Epoch [629/700], Loss: 2.1977, Accuracy: 0.6748\n",
      "Epoch [630/700], Loss: 2.1980, Accuracy: 0.6736\n",
      "Epoch [631/700], Loss: 2.1981, Accuracy: 0.6650\n",
      "Epoch [632/700], Loss: 2.1977, Accuracy: 0.6748\n",
      "Epoch [633/700], Loss: 2.1976, Accuracy: 0.6650\n",
      "Epoch [634/700], Loss: 2.1976, Accuracy: 0.6577\n",
      "Epoch [635/700], Loss: 2.1977, Accuracy: 0.7042\n",
      "Epoch [636/700], Loss: 2.1975, Accuracy: 0.6699\n",
      "Epoch [637/700], Loss: 2.1976, Accuracy: 0.7017\n",
      "Epoch [638/700], Loss: 2.1973, Accuracy: 0.6932\n",
      "Epoch [639/700], Loss: 2.1973, Accuracy: 0.6638\n",
      "Epoch [640/700], Loss: 2.1974, Accuracy: 0.6724\n",
      "Epoch [641/700], Loss: 2.1976, Accuracy: 0.6809\n",
      "Epoch [642/700], Loss: 2.1971, Accuracy: 0.6797\n",
      "Epoch [643/700], Loss: 2.1970, Accuracy: 0.6895\n",
      "Epoch [644/700], Loss: 2.1970, Accuracy: 0.6711\n",
      "Epoch [645/700], Loss: 2.1968, Accuracy: 0.6797\n",
      "Epoch [646/700], Loss: 2.1973, Accuracy: 0.6858\n",
      "Epoch [647/700], Loss: 2.1972, Accuracy: 0.6809\n",
      "Epoch [648/700], Loss: 2.1972, Accuracy: 0.6650\n",
      "Epoch [649/700], Loss: 2.1968, Accuracy: 0.6748\n",
      "Epoch [650/700], Loss: 2.1968, Accuracy: 0.6650\n",
      "Epoch [651/700], Loss: 2.1963, Accuracy: 0.6846\n",
      "Epoch [652/700], Loss: 2.1965, Accuracy: 0.6711\n",
      "Epoch [653/700], Loss: 2.1969, Accuracy: 0.6785\n",
      "Epoch [654/700], Loss: 2.1966, Accuracy: 0.6699\n",
      "Epoch [655/700], Loss: 2.1965, Accuracy: 0.6883\n",
      "Epoch [656/700], Loss: 2.1964, Accuracy: 0.6870\n",
      "Epoch [657/700], Loss: 2.1959, Accuracy: 0.6919\n",
      "Epoch [658/700], Loss: 2.1964, Accuracy: 0.6846\n",
      "Epoch [659/700], Loss: 2.1963, Accuracy: 0.6724\n",
      "Epoch [660/700], Loss: 2.1961, Accuracy: 0.6956\n",
      "Epoch [661/700], Loss: 2.1966, Accuracy: 0.6663\n",
      "Epoch [662/700], Loss: 2.1960, Accuracy: 0.6711\n",
      "Epoch [663/700], Loss: 2.1961, Accuracy: 0.6907\n",
      "Epoch [664/700], Loss: 2.1962, Accuracy: 0.6785\n",
      "Epoch [665/700], Loss: 2.1961, Accuracy: 0.6650\n",
      "Epoch [666/700], Loss: 2.1959, Accuracy: 0.6809\n",
      "Epoch [667/700], Loss: 2.1958, Accuracy: 0.6760\n",
      "Epoch [668/700], Loss: 2.1959, Accuracy: 0.6883\n",
      "Epoch [669/700], Loss: 2.1960, Accuracy: 0.6565\n",
      "Epoch [670/700], Loss: 2.1956, Accuracy: 0.6748\n",
      "Epoch [671/700], Loss: 2.1961, Accuracy: 0.6724\n",
      "Epoch [672/700], Loss: 2.1956, Accuracy: 0.6687\n",
      "Epoch [673/700], Loss: 2.1957, Accuracy: 0.6919\n",
      "Epoch [674/700], Loss: 2.1955, Accuracy: 0.6773\n",
      "Epoch [675/700], Loss: 2.1953, Accuracy: 0.6834\n",
      "Epoch [676/700], Loss: 2.1956, Accuracy: 0.6944\n",
      "Epoch [677/700], Loss: 2.1957, Accuracy: 0.6870\n",
      "Epoch [678/700], Loss: 2.1957, Accuracy: 0.6834\n",
      "Epoch [679/700], Loss: 2.1954, Accuracy: 0.6834\n",
      "Epoch [680/700], Loss: 2.1953, Accuracy: 0.6687\n",
      "Epoch [681/700], Loss: 2.1955, Accuracy: 0.6675\n",
      "Epoch [682/700], Loss: 2.1954, Accuracy: 0.6968\n",
      "Epoch [683/700], Loss: 2.1953, Accuracy: 0.6687\n",
      "Epoch [684/700], Loss: 2.1952, Accuracy: 0.6822\n",
      "Epoch [685/700], Loss: 2.1950, Accuracy: 0.6724\n",
      "Epoch [686/700], Loss: 2.1949, Accuracy: 0.6675\n",
      "Epoch [687/700], Loss: 2.1950, Accuracy: 0.6809\n",
      "Epoch [688/700], Loss: 2.1945, Accuracy: 0.6699\n",
      "Epoch [689/700], Loss: 2.1948, Accuracy: 0.6650\n",
      "Epoch [690/700], Loss: 2.1948, Accuracy: 0.6797\n",
      "Epoch [691/700], Loss: 2.1946, Accuracy: 0.6626\n",
      "Epoch [692/700], Loss: 2.1950, Accuracy: 0.6724\n",
      "Epoch [693/700], Loss: 2.1943, Accuracy: 0.6773\n",
      "Epoch [694/700], Loss: 2.1945, Accuracy: 0.6846\n",
      "Epoch [695/700], Loss: 2.1947, Accuracy: 0.6699\n",
      "Epoch [696/700], Loss: 2.1946, Accuracy: 0.6736\n",
      "Epoch [697/700], Loss: 2.1945, Accuracy: 0.6663\n",
      "Epoch [698/700], Loss: 2.1945, Accuracy: 0.6540\n",
      "Epoch [699/700], Loss: 2.1946, Accuracy: 0.6883\n",
      "Epoch [700/700], Loss: 2.1947, Accuracy: 0.6773\n"
     ]
    }
   ],
   "source": [
    "# Train the LSTM model\n",
    "for epoch in range(num_epochs):\n",
    "    # Set the model to training mode\n",
    "    model.train()\n",
    "\n",
    "    # Reset the optimizer gradients\n",
    "    optimizer.zero_grad()\n",
    "\n",
    "    # Forward pass\n",
    "    output = model(train_X)\n",
    "\n",
    "    # Compute the loss\n",
    "    loss = criterion(output, train_y)\n",
    "\n",
    "    # Compute the accuracy\n",
    "    pred = output.argmax(dim=1, keepdim=True)\n",
    "    correct = pred.eq(train_y.argmax(dim=1, keepdim=True)).sum().item()\n",
    "    accuracy = correct / len(train_y)\n",
    "\n",
    "    # Backward pass\n",
    "    loss.backward()\n",
    "\n",
    "    # Update the model parameters\n",
    "    optimizer.step()\n",
    "\n",
    "    # Print the loss and accuracy every epoch\n",
    "    print(f'Epoch [{epoch+1}/{num_epochs}], Loss: {loss.item():.4f}, Accuracy: {accuracy:.4f}')"
   ],
   "metadata": {
    "collapsed": false
   }
  },
  {
   "cell_type": "markdown",
   "source": [
    "# Evaluate the LSTM model on the validation set"
   ],
   "metadata": {
    "collapsed": false
   }
  },
  {
   "cell_type": "code",
   "execution_count": 188,
   "outputs": [
    {
     "name": "stdout",
     "output_type": "stream",
     "text": [
      "Validation Loss: 4.6170, Accuracy: 0.5143\n"
     ]
    }
   ],
   "source": [
    "with torch.no_grad():\n",
    "    # Set the model to evaluation mode\n",
    "    model.eval()\n",
    "\n",
    "    # Forward pass\n",
    "    output = model(val_X)\n",
    "\n",
    "    # Compute the loss\n",
    "    loss = criterion(output, val_y)\n",
    "\n",
    "    # Compute the accuracy\n",
    "    pred = output.argmax(dim=1, keepdim=True)\n",
    "    correct = pred.eq(val_y.argmax(dim=1, keepdim=True)).sum().item()\n",
    "    accuracy = correct / len(val_y)\n",
    "\n",
    "    # Print the loss and accuracy\n",
    "    print(f'Validation Loss: {loss.item():.4f}, Accuracy: {accuracy:.4f}')\n"
   ],
   "metadata": {
    "collapsed": false
   }
  },
  {
   "cell_type": "markdown",
   "source": [
    "# Evaluate the LSTM model on the test set"
   ],
   "metadata": {
    "collapsed": false
   }
  },
  {
   "cell_type": "code",
   "execution_count": 189,
   "outputs": [
    {
     "name": "stdout",
     "output_type": "stream",
     "text": [
      "Test Loss: 5.2107, Accuracy: 0.7740\n"
     ]
    }
   ],
   "source": [
    "with torch.no_grad():\n",
    "    # Set the model to evaluation mode\n",
    "    model.eval()\n",
    "\n",
    "   # Forward pass\n",
    "    output = model(test_X)\n",
    "\n",
    "    # Compute the loss\n",
    "    loss = criterion(output, test_y)\n",
    "\n",
    "    # Compute the accuracy\n",
    "    pred = output.argmax(dim=1, keepdim=True)\n",
    "    correct = pred.eq(test_y.argmax(dim=1, keepdim=True)).sum().item()\n",
    "    accuracy = correct / len(test_y)\n",
    "\n",
    "    # Print the loss and accuracy\n",
    "    print(f'Test Loss: {loss.item():.4f}, Accuracy: {accuracy:.4f}')\n"
   ],
   "metadata": {
    "collapsed": false
   }
  },
  {
   "cell_type": "code",
   "execution_count": null,
   "outputs": [],
   "source": [
    "# putting this out there that since this is not a professional work i did not try too many times to achieve the highest possible accuracy\n",
    "# you can adjust a number of things to improve it like changing the hidden size, epochs, loss function, trying other activation functions, using a different optimizer\n",
    "# this is just a way to show that it can be done but it isnt a professional model cause will need a lot more fine tuning to make it at a top level."
   ],
   "metadata": {
    "collapsed": false
   }
  },
  {
   "cell_type": "markdown",
   "source": [
    "# Save the model"
   ],
   "metadata": {
    "collapsed": false
   }
  },
  {
   "cell_type": "code",
   "execution_count": 190,
   "outputs": [],
   "source": [
    "torch.save(model.state_dict(), 'model.pt')\n"
   ],
   "metadata": {
    "collapsed": false
   }
  },
  {
   "cell_type": "markdown",
   "source": [
    "# Load the model"
   ],
   "metadata": {
    "collapsed": false
   }
  },
  {
   "cell_type": "code",
   "execution_count": 191,
   "outputs": [
    {
     "data": {
      "text/plain": "<All keys matched successfully>"
     },
     "execution_count": 191,
     "metadata": {},
     "output_type": "execute_result"
    }
   ],
   "source": [
    "model = LSTM()\n",
    "model.load_state_dict(torch.load('model.pt'))\n"
   ],
   "metadata": {
    "collapsed": false
   }
  },
  {
   "cell_type": "code",
   "execution_count": 196,
   "outputs": [],
   "source": [
    "# Load the stock prices dataset\n",
    "GTrain = pd.read_csv(\"Google_Stock_Price_Train.csv\")\n",
    "GTest = pd.read_csv(\"Google_Stock_Price_Test.csv\")\n",
    "GTrain['Date'] = pd.to_datetime(GTrain['Date'], format='%m/%d/%Y')\n",
    "GTest['Date'] = pd.to_datetime(GTest['Date'], format='%m/%d/%Y')\n",
    "\n",
    "# Replace commas with empty string in GTrain\n",
    "GTrain = GTrain.replace(',', '', regex=True)\n",
    "\n",
    "# Replace commas with empty string in GTest\n",
    "GTest = GTest.replace(',', '', regex=True)"
   ],
   "metadata": {
    "collapsed": false
   }
  },
  {
   "cell_type": "code",
   "execution_count": 197,
   "outputs": [
    {
     "data": {
      "text/plain": "              Open    High     Low   Close      Volume\nDate                                                  \n2012-01-03  325.25  332.83  324.97  663.59   7,380,500\n2012-01-04  331.27  333.87  329.08  666.45   5,749,400\n2012-01-05  329.83  330.75  326.89  657.21   6,590,300\n2012-01-06  328.34  328.77  323.68  648.24   5,405,900\n2012-01-09  322.04  322.29  309.46  620.76  11,688,800",
      "text/html": "<div>\n<style scoped>\n    .dataframe tbody tr th:only-of-type {\n        vertical-align: middle;\n    }\n\n    .dataframe tbody tr th {\n        vertical-align: top;\n    }\n\n    .dataframe thead th {\n        text-align: right;\n    }\n</style>\n<table border=\"1\" class=\"dataframe\">\n  <thead>\n    <tr style=\"text-align: right;\">\n      <th></th>\n      <th>Open</th>\n      <th>High</th>\n      <th>Low</th>\n      <th>Close</th>\n      <th>Volume</th>\n    </tr>\n    <tr>\n      <th>Date</th>\n      <th></th>\n      <th></th>\n      <th></th>\n      <th></th>\n      <th></th>\n    </tr>\n  </thead>\n  <tbody>\n    <tr>\n      <th>2012-01-03</th>\n      <td>325.25</td>\n      <td>332.83</td>\n      <td>324.97</td>\n      <td>663.59</td>\n      <td>7,380,500</td>\n    </tr>\n    <tr>\n      <th>2012-01-04</th>\n      <td>331.27</td>\n      <td>333.87</td>\n      <td>329.08</td>\n      <td>666.45</td>\n      <td>5,749,400</td>\n    </tr>\n    <tr>\n      <th>2012-01-05</th>\n      <td>329.83</td>\n      <td>330.75</td>\n      <td>326.89</td>\n      <td>657.21</td>\n      <td>6,590,300</td>\n    </tr>\n    <tr>\n      <th>2012-01-06</th>\n      <td>328.34</td>\n      <td>328.77</td>\n      <td>323.68</td>\n      <td>648.24</td>\n      <td>5,405,900</td>\n    </tr>\n    <tr>\n      <th>2012-01-09</th>\n      <td>322.04</td>\n      <td>322.29</td>\n      <td>309.46</td>\n      <td>620.76</td>\n      <td>11,688,800</td>\n    </tr>\n  </tbody>\n</table>\n</div>"
     },
     "execution_count": 197,
     "metadata": {},
     "output_type": "execute_result"
    }
   ],
   "source": [
    "GTrain = pd.read_csv('Google_Stock_Price_Train.csv', index_col='Date', parse_dates=True)\n",
    "GTest = pd.read_csv('Google_Stock_Price_Test.csv', index_col='Date', parse_dates=True)\n",
    "\n",
    "df = pd.concat([GTrain, GTest], axis=0)\n",
    "df.head()"
   ],
   "metadata": {
    "collapsed": false
   }
  },
  {
   "cell_type": "code",
   "execution_count": 198,
   "outputs": [
    {
     "data": {
      "text/plain": "              Open    High     Low   Close    Volume\nDate                                                \n2012-01-03  325.25  332.83  324.97  663.59   7380500\n2012-01-04  331.27  333.87  329.08  666.45   5749400\n2012-01-05  329.83  330.75  326.89  657.21   6590300\n2012-01-06  328.34  328.77  323.68  648.24   5405900\n2012-01-09  322.04  322.29  309.46  620.76  11688800",
      "text/html": "<div>\n<style scoped>\n    .dataframe tbody tr th:only-of-type {\n        vertical-align: middle;\n    }\n\n    .dataframe tbody tr th {\n        vertical-align: top;\n    }\n\n    .dataframe thead th {\n        text-align: right;\n    }\n</style>\n<table border=\"1\" class=\"dataframe\">\n  <thead>\n    <tr style=\"text-align: right;\">\n      <th></th>\n      <th>Open</th>\n      <th>High</th>\n      <th>Low</th>\n      <th>Close</th>\n      <th>Volume</th>\n    </tr>\n    <tr>\n      <th>Date</th>\n      <th></th>\n      <th></th>\n      <th></th>\n      <th></th>\n      <th></th>\n    </tr>\n  </thead>\n  <tbody>\n    <tr>\n      <th>2012-01-03</th>\n      <td>325.25</td>\n      <td>332.83</td>\n      <td>324.97</td>\n      <td>663.59</td>\n      <td>7380500</td>\n    </tr>\n    <tr>\n      <th>2012-01-04</th>\n      <td>331.27</td>\n      <td>333.87</td>\n      <td>329.08</td>\n      <td>666.45</td>\n      <td>5749400</td>\n    </tr>\n    <tr>\n      <th>2012-01-05</th>\n      <td>329.83</td>\n      <td>330.75</td>\n      <td>326.89</td>\n      <td>657.21</td>\n      <td>6590300</td>\n    </tr>\n    <tr>\n      <th>2012-01-06</th>\n      <td>328.34</td>\n      <td>328.77</td>\n      <td>323.68</td>\n      <td>648.24</td>\n      <td>5405900</td>\n    </tr>\n    <tr>\n      <th>2012-01-09</th>\n      <td>322.04</td>\n      <td>322.29</td>\n      <td>309.46</td>\n      <td>620.76</td>\n      <td>11688800</td>\n    </tr>\n  </tbody>\n</table>\n</div>"
     },
     "execution_count": 198,
     "metadata": {},
     "output_type": "execute_result"
    }
   ],
   "source": [
    "# Replace commas with an empty string in the 'Volume' column\n",
    "df['Volume'] = df['Volume'].str.replace(',', '')\n",
    "df.head()"
   ],
   "metadata": {
    "collapsed": false
   }
  },
  {
   "cell_type": "code",
   "execution_count": 204,
   "outputs": [
    {
     "data": {
      "text/plain": "Open      float64\nHigh      float64\nLow       float64\nClose      object\nVolume     object\ndtype: object"
     },
     "execution_count": 204,
     "metadata": {},
     "output_type": "execute_result"
    }
   ],
   "source": [
    "df.dtypes\n"
   ],
   "metadata": {
    "collapsed": false
   }
  },
  {
   "cell_type": "code",
   "execution_count": 206,
   "outputs": [],
   "source": [
    "df['Close'] = df['Close'].str.replace(',', '')\n",
    "df['Close'] = df['Close'].astype(float)\n",
    "df['Volume'] = df['Volume'].astype(float)"
   ],
   "metadata": {
    "collapsed": false
   }
  },
  {
   "cell_type": "code",
   "execution_count": 214,
   "outputs": [],
   "source": [
    "\n",
    "# Prepare the input data\n",
    "last_30_days = df['Close'].tail(30).values.reshape(1, 6, 5)\n",
    "input_tensor = torch.tensor(last_30_days, dtype=torch.float32)"
   ],
   "metadata": {
    "collapsed": false
   }
  },
  {
   "cell_type": "code",
   "execution_count": 215,
   "outputs": [],
   "source": [
    "\n",
    "# Use the trained LSTM model to predict the stock prices for the next 3 months\n",
    "model.eval()\n",
    "with torch.no_grad():\n",
    "    output_tensor = model(input_tensor)\n",
    "predicted_prices = output_tensor.detach().numpy()"
   ],
   "metadata": {
    "collapsed": false
   }
  },
  {
   "cell_type": "code",
   "execution_count": 220,
   "outputs": [
    {
     "name": "stdout",
     "output_type": "stream",
     "text": [
      "5\n",
      "90\n"
     ]
    }
   ],
   "source": [
    "\n",
    "# Convert the predicted prices to a pandas dataframe\n",
    "date_range = pd.date_range(start=df.index[-1], periods=90, freq='D')\n",
    "print(len(predicted_prices[0]))\n",
    "print(len(date_range))\n"
   ],
   "metadata": {
    "collapsed": false
   }
  },
  {
   "cell_type": "code",
   "execution_count": 221,
   "outputs": [],
   "source": [
    "df_template = pd.DataFrame({'Close': predicted_prices[0]})\n",
    "predicted_df = pd.concat([df_template]*18, ignore_index=True)\n",
    "predicted_df['Date'] = date_range"
   ],
   "metadata": {
    "collapsed": false
   }
  },
  {
   "cell_type": "code",
   "execution_count": 222,
   "outputs": [],
   "source": [
    "\n",
    "# Concatenate the predicted dataframe with the original dataframe\n",
    "df = pd.concat([df, predicted_df], ignore_index=True)"
   ],
   "metadata": {
    "collapsed": false
   }
  },
  {
   "cell_type": "code",
   "execution_count": 227,
   "outputs": [
    {
     "data": {
      "text/plain": "<Figure size 1200x600 with 1 Axes>",
      "image/png": "[encoded data removed]"
     },
     "metadata": {},
     "output_type": "display_data"
    }
   ],
   "source": [
    "\n",
    "# Plot the graph\n",
    "import matplotlib.pyplot as plt\n",
    "import seaborn as sns\n",
    "\n",
    "sns.set_style('darkgrid')\n",
    "plt.figure(figsize=(12,6))\n",
    "sns.lineplot(df['Close'], color ='red')\n",
    "plt.xlabel('Days')\n",
    "plt.ylabel('Stock Price')\n",
    "plt.title('Prediction of Google Stock Price')\n",
    "plt.show()"
   ],
   "metadata": {
    "collapsed": false
   }
  }
 ],
 "metadata": {
  "kernelspec": {
   "display_name": "Python 3",
   "language": "python",
   "name": "python3"
  },
  "language_info": {
   "codemirror_mode": {
    "name": "ipython",
    "version": 2
   },
   "file_extension": ".py",
   "mimetype": "text/x-python",
   "name": "python",
   "nbconvert_exporter": "python",
   "pygments_lexer": "ipython2",
   "version": "2.7.6"
  }
 },
 "nbformat": 4,
 "nbformat_minor": 0
}
